{
 "cells": [
  {
   "cell_type": "code",
   "execution_count": 1,
   "id": "d7df3212-ffa3-4ed0-b0ec-dea8573748ae",
   "metadata": {},
   "outputs": [],
   "source": [
    "import numpy as np\n"
   ]
  },
  {
   "cell_type": "code",
   "execution_count": 2,
   "id": "9401e6f6-0245-496d-a7ae-66b50b4c5cc3",
   "metadata": {},
   "outputs": [
    {
     "name": "stdout",
     "output_type": "stream",
     "text": [
      "2.2.2\n"
     ]
    }
   ],
   "source": [
    "print(np.__version__)"
   ]
  },
  {
   "cell_type": "code",
   "execution_count": 3,
   "id": "9131098c-fb45-4c68-b9b5-d58e5d887e4b",
   "metadata": {},
   "outputs": [
    {
     "name": "stdout",
     "output_type": "stream",
     "text": [
      "1D NumPy array:\n",
      "[1 2 3 4 5]\n",
      "\n",
      "2D NumPy array:\n",
      "[[1 2 3]\n",
      " [4 5 6]\n",
      " [7 8 9]]\n",
      "\n",
      "Evenly spaced array:\n",
      "[0.         0.55555556 1.11111111 1.66666667 2.22222222 2.77777778\n",
      " 3.33333333 3.88888889 4.44444444 5.        ]\n"
     ]
    }
   ],
   "source": [
    "# 1 Create a 1D NumPy array from a Python list\n",
    "arr_1d = np.array([1, 2, 3, 4, 5])\n",
    "print(\"1D NumPy array:\")\n",
    "print(arr_1d)\n",
    "\n",
    "# 2 Create a 2D NumPy array of shape (3x3) using numbers from 1 to 9\n",
    "arr_2d = np.array([[1, 2, 3], [4, 5, 6], [7, 8, 9]])\n",
    "print(\"\\n2D NumPy array:\")\n",
    "print(arr_2d)\n",
    "\n",
    "# 3 Generate an array of 10 evenly spaced values between 0 and 5\n",
    "arr_spaced = np.linspace(0, 5, 10)\n",
    "print(\"\\nEvenly spaced array:\")\n",
    "print(arr_spaced)\n"
   ]
  },
  {
   "cell_type": "code",
   "execution_count": 4,
   "id": "e4526642-05d0-4303-95af-381a60c88905",
   "metadata": {},
   "outputs": [
    {
     "name": "stdout",
     "output_type": "stream",
     "text": [
      "Element in second row, third column: 6\n",
      "\n",
      "Sliced array (first two rows and columns):\n",
      "[[1 2]\n",
      " [4 5]]\n",
      "\n",
      "Modified array:\n",
      "[[  1   2   3]\n",
      " [  4   5   6]\n",
      " [100   8   9]]\n"
     ]
    }
   ],
   "source": [
    "# Creating the 2D NumPy array\n",
    "arr_2d = np.array([[1, 2, 3], \n",
    "                   [4, 5, 6], \n",
    "                   [7, 8, 9]])\n",
    "# 1 Access the element in the second row, third column\n",
    "element = arr_2d[1, 2]  # Indexing starts from 0\n",
    "print(\"Element in second row, third column:\", element)\n",
    "\n",
    "# 2 Slice the first two rows and the first two columns\n",
    "sliced_arr = arr_2d[:2, :2]  # Rows: 0-1, Columns: 0-1\n",
    "print(\"\\nSliced array (first two rows and columns):\")\n",
    "print(sliced_arr)\n",
    "\n",
    "# 3 Modify the value in the last row and first column to 100\n",
    "arr_2d[2, 0] = 100  # Changing the element at row index 2, column index 0\n",
    "print(\"\\nModified array:\")\n",
    "print(arr_2d)\n"
   ]
  },
  {
   "cell_type": "code",
   "execution_count": 6,
   "id": "160d4904-66aa-4edc-b9c6-b4faf9129de5",
   "metadata": {},
   "outputs": [
    {
     "name": "stdout",
     "output_type": "stream",
     "text": [
      "Shape of 2D array: (3, 3)\n",
      "Size of 2D array: 9\n",
      "Data type of 2D array: int64\n",
      "\n",
      "Reshaped 1D array into 2D (5,1):\n",
      "[[1]\n",
      " [2]\n",
      " [3]\n",
      " [4]\n",
      " [5]]\n",
      "\n",
      "Flattened array:\n",
      "[1 2 3 4 5 6 7 8 9]\n"
     ]
    }
   ],
   "source": [
    "\n",
    "# 1 Find the shape, size, and data type of the 2D array\n",
    "shape = arr_2d.shape  # Shape of the array (rows, columns)\n",
    "size = arr_2d.size    # Total number of elements\n",
    "dtype = arr_2d.dtype  # Data type of elements\n",
    "\n",
    "print(\"Shape of 2D array:\", shape)\n",
    "print(\"Size of 2D array:\", size)\n",
    "print(\"Data type of 2D array:\", dtype)\n",
    "\n",
    "# Creating a 1D NumPy array\n",
    "arr_1d = np.array([1, 2, 3, 4, 5])\n",
    "\n",
    "# 2 Change the 1D array into a 2D array of shape (5,1)\n",
    "arr_2d_reshaped = arr_1d.reshape(5, 1)\n",
    "print(\"\\nReshaped 1D array into 2D (5,1):\")\n",
    "print(arr_2d_reshaped)\n",
    "\n",
    "# 3 Flatten a multi-dimensional array back into a 1D array\n",
    "arr_flattened = arr_2d.flatten()\n",
    "print(\"\\nFlattened array:\")\n",
    "print(arr_flattened)\n"
   ]
  },
  {
   "cell_type": "code",
   "execution_count": 7,
   "id": "50506418-20e5-439e-97d5-405f8582cab0",
   "metadata": {},
   "outputs": [
    {
     "name": "stdout",
     "output_type": "stream",
     "text": [
      "1D array after adding 5:\n",
      "[ 6  7  8  9 10]\n",
      "\n",
      "2D array after multiplication by 3:\n",
      "[[ 3  6  9]\n",
      " [12 15 18]\n",
      " [21 24 27]]\n",
      "\n",
      "Matrix multiplication result (A * B):\n",
      "[[19 22]\n",
      " [43 50]]\n"
     ]
    }
   ],
   "source": [
    "\n",
    "# 1 Add 5 to every element in the 1D array\n",
    "arr_1d_added = arr_1d + 5\n",
    "print(\"1D array after adding 5:\")\n",
    "print(arr_1d_added)\n",
    "\n",
    "# Creating the 2D array\n",
    "arr_2d = np.array([[1, 2, 3], \n",
    "                   [4, 5, 6], \n",
    "                   [7, 8, 9]])\n",
    "\n",
    "# 2 Multiply the 2D array by 3\n",
    "arr_2d_multiplied = arr_2d * 3\n",
    "print(\"\\n2D array after multiplication by 3:\")\n",
    "print(arr_2d_multiplied)\n",
    "\n",
    "A = np.array([[1, 2], [3, 4]])\n",
    "B = np.array([[5, 6], [7, 8]])\n",
    "\n",
    "# 3 Perform matrix multiplication\n",
    "matrix_product = np.dot(A, B)  # Or A @ B\n",
    "print(\"\\nMatrix multiplication result (A * B):\")\n",
    "print(matrix_product)\n"
   ]
  },
  {
   "cell_type": "code",
   "execution_count": 9,
   "id": "16536f71-39f0-4d6b-bf6d-7a4808c95408",
   "metadata": {},
   "outputs": [
    {
     "name": "stdout",
     "output_type": "stream",
     "text": [
      "3x3 Matrix of ones:\n",
      "[[1. 1. 1.]\n",
      " [1. 1. 1.]\n",
      " [1. 1. 1.]]\n",
      "\n",
      "1D array:\n",
      "[1 2 3]\n",
      "\n",
      "Result after broadcasting:\n",
      "[[2. 3. 4.]\n",
      " [2. 3. 4.]\n",
      " [2. 3. 4.]]\n"
     ]
    }
   ],
   "source": [
    "\n",
    "# 1 Create a 3x3 matrix of ones\n",
    "matrix_ones = np.ones((3, 3))  # Creates a 3x3 matrix filled with ones\n",
    "print(\"3x3 Matrix of ones:\")\n",
    "print(matrix_ones)\n",
    "\n",
    "# 2 Create a 1D array of length 3\n",
    "array_1d = np.array([1, 2, 3])  # 1D array of length 3\n",
    "print(\"\\n1D array:\")\n",
    "print(array_1d)\n",
    "\n",
    "# 3 Add the 1D array to each row of the matrix using broadcasting\n",
    "result_matrix = matrix_ones + array_1d  # Broadcasting happens here\n",
    "print(\"\\nResult after broadcasting:\")\n",
    "print(result_matrix)\n"
   ]
  },
  {
   "cell_type": "code",
   "execution_count": null,
   "id": "ef04d1fb-bba3-46d2-8412-8a5ecc835a2c",
   "metadata": {},
   "outputs": [],
   "source": []
  },
  {
   "cell_type": "code",
   "execution_count": null,
   "id": "879d2983-ddfe-4074-baa5-d07d3196ff6f",
   "metadata": {},
   "outputs": [],
   "source": []
  }
 ],
 "metadata": {
  "kernelspec": {
   "display_name": "Python 3 (ipykernel)",
   "language": "python",
   "name": "python3"
  },
  "language_info": {
   "codemirror_mode": {
    "name": "ipython",
    "version": 3
   },
   "file_extension": ".py",
   "mimetype": "text/x-python",
   "name": "python",
   "nbconvert_exporter": "python",
   "pygments_lexer": "ipython3",
   "version": "3.12.6"
  }
 },
 "nbformat": 4,
 "nbformat_minor": 5
}
