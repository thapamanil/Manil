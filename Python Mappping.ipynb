{
 "cells": [
  {
   "cell_type": "markdown",
   "id": "41bd6a89-57f7-44d8-952d-151521312e91",
   "metadata": {},
   "source": [
    "Day 5  Python Mappping and Modification\n",
    "\n"
   ]
  },
  {
   "cell_type": "code",
   "execution_count": 4,
   "id": "7b14a37e-de25-462e-bb94-5d358c9c137e",
   "metadata": {},
   "outputs": [],
   "source": [
    "person = {\n",
    "\"name\": \"Manil\",\n",
    "\"Age\": '21',\n",
    "\"City\": \"Sirutar\"\n",
    "}\n",
    "\n"
   ]
  },
  {
   "cell_type": "code",
   "execution_count": 5,
   "id": "04cb6efa-e9f6-4b80-b45d-a0baba227e44",
   "metadata": {},
   "outputs": [
    {
     "name": "stdout",
     "output_type": "stream",
     "text": [
      "{'name': 'Manil', 'Age': '21', 'City': 'Sirutar'}\n"
     ]
    }
   ],
   "source": [
    "print(person)"
   ]
  },
  {
   "cell_type": "code",
   "execution_count": 6,
   "id": "036bbdd9-389d-4e9d-b49f-ee822e75482b",
   "metadata": {},
   "outputs": [],
   "source": [
    "person['Age'] = 22"
   ]
  },
  {
   "cell_type": "code",
   "execution_count": 8,
   "id": "546168db-6a2e-409b-8a96-47f7d249ae79",
   "metadata": {},
   "outputs": [
    {
     "name": "stdout",
     "output_type": "stream",
     "text": [
      "Age\n"
     ]
    }
   ],
   "source": [
    "print('Age')\n"
   ]
  },
  {
   "cell_type": "code",
   "execution_count": 9,
   "id": "8ae3d09f-92a3-4f00-b618-55db4e1994b1",
   "metadata": {},
   "outputs": [
    {
     "name": "stdout",
     "output_type": "stream",
     "text": [
      "{'name': 'Manil', 'Age': 22, 'City': 'Sirutar'}\n"
     ]
    }
   ],
   "source": [
    "print(person)\n"
   ]
  },
  {
   "cell_type": "code",
   "execution_count": 13,
   "id": "0bf2b4eb-0bea-4273-8a8f-3bf344ea43cc",
   "metadata": {},
   "outputs": [],
   "source": [
    "person[\"Gender\"] = \" Male \""
   ]
  },
  {
   "cell_type": "code",
   "execution_count": 14,
   "id": "13d85e56-53bd-4b12-96fc-6fc912700f37",
   "metadata": {},
   "outputs": [
    {
     "name": "stdout",
     "output_type": "stream",
     "text": [
      "{'name': 'Manil', 'Age': 22, 'City': 'Sirutar', 'Gender': ' Male '}\n"
     ]
    }
   ],
   "source": [
    "print(person)\n"
   ]
  },
  {
   "cell_type": "code",
   "execution_count": 16,
   "id": "8665ff8f-c4b6-4eab-83cd-047e6dd9f41d",
   "metadata": {},
   "outputs": [],
   "source": [
    "del person ['City']\n"
   ]
  },
  {
   "cell_type": "code",
   "execution_count": 17,
   "id": "3b7f17c7-85d7-4101-9f98-f3bf87fa90fd",
   "metadata": {},
   "outputs": [
    {
     "name": "stdout",
     "output_type": "stream",
     "text": [
      "{'name': 'Manil', 'Age': 22, 'Gender': ' Male '}\n"
     ]
    }
   ],
   "source": [
    "print(person)\n"
   ]
  },
  {
   "cell_type": "markdown",
   "id": "931b57e7-3712-49af-9f2c-d614744d130e",
   "metadata": {},
   "source": [
    "Dictionary Methods"
   ]
  },
  {
   "cell_type": "code",
   "execution_count": 18,
   "id": "24b59979-b9d3-46d4-8026-05da1ea931d5",
   "metadata": {},
   "outputs": [
    {
     "name": "stdout",
     "output_type": "stream",
     "text": [
      "{'name': 'Manil', 'Age': 22, 'Gender': ' Male '}\n"
     ]
    }
   ],
   "source": [
    "print(person)"
   ]
  },
  {
   "cell_type": "code",
   "execution_count": 20,
   "id": "74691691-28e1-4d95-82a1-ac578719b4cc",
   "metadata": {},
   "outputs": [
    {
     "name": "stdout",
     "output_type": "stream",
     "text": [
      "dict_keys(['name', 'Age', 'Gender'])\n"
     ]
    }
   ],
   "source": [
    "print(person.keys()) # Key Return Function"
   ]
  },
  {
   "cell_type": "raw",
   "id": "edf5f174-12ba-45bc-9fe6-4b30824756ea",
   "metadata": {},
   "source": []
  },
  {
   "cell_type": "code",
   "execution_count": 21,
   "id": "12486fda-2651-4909-8aa9-58d8f38930be",
   "metadata": {},
   "outputs": [
    {
     "name": "stdout",
     "output_type": "stream",
     "text": [
      "dict_values(['Manil', 22, ' Male '])\n"
     ]
    }
   ],
   "source": [
    "print(person.values()) #Items Return"
   ]
  },
  {
   "cell_type": "code",
   "execution_count": 22,
   "id": "e19f804c-74cd-41e8-9f66-ab834e173ed8",
   "metadata": {},
   "outputs": [
    {
     "name": "stdout",
     "output_type": "stream",
     "text": [
      "dict_items([('name', 'Manil'), ('Age', 22), ('Gender', ' Male ')])\n"
     ]
    }
   ],
   "source": [
    "print(person.items()) # Both keys rah Values Return Garxa Tuple ko form ma"
   ]
  },
  {
   "cell_type": "code",
   "execution_count": 27,
   "id": "52323050-474f-4721-93ad-f2e6953638d9",
   "metadata": {},
   "outputs": [],
   "source": [
    "del person ['name']"
   ]
  },
  {
   "cell_type": "code",
   "execution_count": 28,
   "id": "28d2816e-032f-4f35-9141-638d0176c86d",
   "metadata": {},
   "outputs": [
    {
     "name": "stdout",
     "output_type": "stream",
     "text": [
      "{'Age': 22, 'Gender': ' Male '}\n"
     ]
    }
   ],
   "source": [
    "print(person)"
   ]
  },
  {
   "cell_type": "code",
   "execution_count": 29,
   "id": "ae24f602-392b-42dc-9be4-af312566d459",
   "metadata": {},
   "outputs": [],
   "source": [
    "person ['Name'] = \"Manil\""
   ]
  },
  {
   "cell_type": "code",
   "execution_count": 30,
   "id": "d1b62045-7708-4831-8f35-a8d7a79c9ff6",
   "metadata": {},
   "outputs": [
    {
     "name": "stdout",
     "output_type": "stream",
     "text": [
      "{'Age': 22, 'Gender': ' Male ', 'Name': 'Manil'}\n"
     ]
    }
   ],
   "source": [
    "print(person)"
   ]
  },
  {
   "cell_type": "code",
   "execution_count": 31,
   "id": "6f52be56-8a9c-4693-8af0-30516a94fcf4",
   "metadata": {},
   "outputs": [],
   "source": [
    "age = person.pop('Age', '22')"
   ]
  },
  {
   "cell_type": "code",
   "execution_count": 32,
   "id": "2da71fb1-6580-4c09-b8d1-d28fc82bfc3f",
   "metadata": {},
   "outputs": [
    {
     "data": {
      "text/plain": [
       "{'Gender': ' Male ', 'Name': 'Manil'}"
      ]
     },
     "execution_count": 32,
     "metadata": {},
     "output_type": "execute_result"
    }
   ],
   "source": [
    "person\n"
   ]
  },
  {
   "cell_type": "code",
   "execution_count": 33,
   "id": "1d69dbfb-a88e-43f9-b9a3-f00a0fd00e7d",
   "metadata": {},
   "outputs": [
    {
     "data": {
      "text/plain": [
       "22"
      ]
     },
     "execution_count": 33,
     "metadata": {},
     "output_type": "execute_result"
    }
   ],
   "source": [
    "age"
   ]
  },
  {
   "cell_type": "code",
   "execution_count": 34,
   "id": "b58423d3-3b6e-4197-850a-52a1fd924ae8",
   "metadata": {},
   "outputs": [
    {
     "data": {
      "text/plain": [
       "{'Gender': ' Male ', 'Name': 'Manil'}"
      ]
     },
     "execution_count": 34,
     "metadata": {},
     "output_type": "execute_result"
    }
   ],
   "source": [
    "person"
   ]
  },
  {
   "cell_type": "code",
   "execution_count": 35,
   "id": "4852c690-20c1-41f5-b2fb-c9c6f8140264",
   "metadata": {},
   "outputs": [],
   "source": [
    "person ['Age'] = '21'"
   ]
  },
  {
   "cell_type": "code",
   "execution_count": 36,
   "id": "be72432f-f861-47af-8964-589ce3b682cf",
   "metadata": {},
   "outputs": [
    {
     "data": {
      "text/plain": [
       "{'Gender': ' Male ', 'Name': 'Manil', 'Age': '21'}"
      ]
     },
     "execution_count": 36,
     "metadata": {},
     "output_type": "execute_result"
    }
   ],
   "source": [
    "person"
   ]
  },
  {
   "cell_type": "markdown",
   "id": "756bcc55-7950-4f3d-b246-20154ef59c24",
   "metadata": {},
   "source": [
    "Copy Methods()"
   ]
  },
  {
   "cell_type": "code",
   "execution_count": 39,
   "id": "892fe6b7-081e-419b-b7d1-ba7953b65d35",
   "metadata": {},
   "outputs": [],
   "source": [
    "\n",
    "person2 =person"
   ]
  },
  {
   "cell_type": "code",
   "execution_count": 40,
   "id": "04c2b8d7-2b56-4602-837a-87dbc459ba43",
   "metadata": {},
   "outputs": [
    {
     "data": {
      "text/plain": [
       "{'Gender': ' Male ', 'Name': 'Manil', 'Age': '21'}"
      ]
     },
     "execution_count": 40,
     "metadata": {},
     "output_type": "execute_result"
    }
   ],
   "source": [
    "person2"
   ]
  },
  {
   "cell_type": "code",
   "execution_count": 43,
   "id": "bcd96ff3-49fc-4229-9165-1e7ac548abae",
   "metadata": {},
   "outputs": [],
   "source": [
    "person2 =person.copy()"
   ]
  },
  {
   "cell_type": "raw",
   "id": "441f7394-eda4-499e-b5fe-e641fe334be9",
   "metadata": {},
   "source": [
    "person2"
   ]
  },
  {
   "cell_type": "code",
   "execution_count": 44,
   "id": "90fa159b-35e9-4d21-9a96-6604d5a109ff",
   "metadata": {},
   "outputs": [
    {
     "data": {
      "text/plain": [
       "{'Gender': ' Male ', 'Name': 'Manil', 'Age': '21'}"
      ]
     },
     "execution_count": 44,
     "metadata": {},
     "output_type": "execute_result"
    }
   ],
   "source": [
    "person2"
   ]
  },
  {
   "cell_type": "code",
   "execution_count": 45,
   "id": "2b36ad39-5099-43ae-b819-41fcdaa2d56e",
   "metadata": {},
   "outputs": [],
   "source": [
    "person2 ['Name'] = \"Hari\""
   ]
  },
  {
   "cell_type": "code",
   "execution_count": 46,
   "id": "75f443e1-2567-4fb2-b229-650df7b10afd",
   "metadata": {},
   "outputs": [
    {
     "data": {
      "text/plain": [
       "{'Gender': ' Male ', 'Name': 'Hari', 'Age': '21'}"
      ]
     },
     "execution_count": 46,
     "metadata": {},
     "output_type": "execute_result"
    }
   ],
   "source": [
    "person2"
   ]
  },
  {
   "cell_type": "code",
   "execution_count": 49,
   "id": "801c56a6-02e4-4c31-8133-a08a2bf33086",
   "metadata": {},
   "outputs": [],
   "source": [
    "person3 = person2"
   ]
  },
  {
   "cell_type": "raw",
   "id": "c4cf9a79-b84a-47fd-ab3c-1ab83eaf4fa2",
   "metadata": {},
   "source": []
  },
  {
   "cell_type": "code",
   "execution_count": 50,
   "id": "027d5f29-6e37-4cba-840d-78fd5b87825f",
   "metadata": {},
   "outputs": [
    {
     "data": {
      "text/plain": [
       "{'Gender': ' Male ', 'Name': 'Hari', 'Age': '21'}"
      ]
     },
     "execution_count": 50,
     "metadata": {},
     "output_type": "execute_result"
    }
   ],
   "source": [
    "person3"
   ]
  },
  {
   "cell_type": "code",
   "execution_count": 51,
   "id": "cbdd55fb-5c51-40ed-bdc5-6596e3e31dc7",
   "metadata": {},
   "outputs": [
    {
     "data": {
      "text/plain": [
       "{'Gender': ' Male ', 'Name': 'Manil', 'Age': '21'}"
      ]
     },
     "execution_count": 51,
     "metadata": {},
     "output_type": "execute_result"
    }
   ],
   "source": [
    "person"
   ]
  },
  {
   "cell_type": "code",
   "execution_count": 52,
   "id": "ab93e329-b801-4d7d-a3d5-2c4ba75c51f0",
   "metadata": {},
   "outputs": [],
   "source": [
    "person ['Age'] ='23'"
   ]
  },
  {
   "cell_type": "code",
   "execution_count": 53,
   "id": "dbb58f8f-1047-499f-9592-05ad0b2c0171",
   "metadata": {},
   "outputs": [
    {
     "data": {
      "text/plain": [
       "{'Gender': ' Male ', 'Name': 'Manil', 'Age': '23'}"
      ]
     },
     "execution_count": 53,
     "metadata": {},
     "output_type": "execute_result"
    }
   ],
   "source": [
    "person"
   ]
  },
  {
   "cell_type": "markdown",
   "id": "d7b2afb3-3e16-47b8-805c-2119d68ee905",
   "metadata": {},
   "source": [
    "#\n",
    "**Sorted Method()**"
   ]
  },
  {
   "cell_type": "code",
   "execution_count": 66,
   "id": "470c072f-aee8-4279-b02b-e528ac8b82bd",
   "metadata": {},
   "outputs": [],
   "source": [
    "person2=person\n"
   ]
  },
  {
   "cell_type": "code",
   "execution_count": 67,
   "id": "24a9d4c2-6c48-44e1-90ce-5a0075e4e56e",
   "metadata": {},
   "outputs": [],
   "source": [
    "person2['Name'] = \"Hari\""
   ]
  },
  {
   "cell_type": "code",
   "execution_count": 68,
   "id": "4e819028-4b6e-4473-afb6-dd17b38ffa51",
   "metadata": {},
   "outputs": [
    {
     "data": {
      "text/plain": [
       "{'Gender': ' Male ', 'Name': 'Hari', 'Age': '23'}"
      ]
     },
     "execution_count": 68,
     "metadata": {},
     "output_type": "execute_result"
    }
   ],
   "source": [
    "person2"
   ]
  },
  {
   "cell_type": "code",
   "execution_count": 74,
   "id": "5c8ee259-fca3-4e0f-b85d-7002538bd7c1",
   "metadata": {},
   "outputs": [
    {
     "data": {
      "text/plain": [
       "[('Age', '23'), ('Gender', ' Male '), ('Name', 'Hari')]"
      ]
     },
     "execution_count": 74,
     "metadata": {},
     "output_type": "execute_result"
    }
   ],
   "source": [
    "sorted(person2.items(), key = lambda item: item[0], reverse = False) #Sort by Keys \n"
   ]
  },
  {
   "cell_type": "code",
   "execution_count": 73,
   "id": "998398a6-f559-46e9-90b0-0a2e5f3958c4",
   "metadata": {},
   "outputs": [
    {
     "data": {
      "text/plain": [
       "{'Age': '23', 'Gender': ' Male ', 'Name': 'Hari'}"
      ]
     },
     "execution_count": 73,
     "metadata": {},
     "output_type": "execute_result"
    }
   ],
   "source": [
    "dict(\n",
    "    sorted(person2.items(), key = lambda item: item[1], reverse = False) #Sort by Values\n",
    ")"
   ]
  },
  {
   "cell_type": "code",
   "execution_count": 78,
   "id": "fb03adae-f13e-4344-ac79-32aa8ca09bf8",
   "metadata": {},
   "outputs": [],
   "source": [
    "person['City'] = \"Airutar\""
   ]
  },
  {
   "cell_type": "code",
   "execution_count": 89,
   "id": "0a8756d4-ceef-4f73-8fa3-4837396c7c2b",
   "metadata": {},
   "outputs": [
    {
     "data": {
      "text/plain": [
       "{'Gender': ' Male ', 'Name': 'Hari', 'Age': '23', 'City': 'Airutar'}"
      ]
     },
     "execution_count": 89,
     "metadata": {},
     "output_type": "execute_result"
    }
   ],
   "source": [
    "person2\n"
   ]
  },
  {
   "cell_type": "code",
   "execution_count": 90,
   "id": "f7f57adf-1533-412d-a754-2e77c9911c2a",
   "metadata": {},
   "outputs": [
    {
     "data": {
      "text/plain": [
       "{'Age': '23', 'City': 'Airutar', 'Gender': ' Male ', 'Name': 'Hari'}"
      ]
     },
     "execution_count": 90,
     "metadata": {},
     "output_type": "execute_result"
    }
   ],
   "source": [
    "dict(\n",
    "    sorted(person2.items(), key = lambda item: item[0], reverse = False) #Sort by Values\n",
    ")"
   ]
  },
  {
   "cell_type": "code",
   "execution_count": 94,
   "id": "ffd8dbe0-6662-4de8-9d20-a2a60fac4fb7",
   "metadata": {},
   "outputs": [],
   "source": [
    "person3=person.copy()"
   ]
  },
  {
   "cell_type": "raw",
   "id": "c2fc317c-f362-483a-ade2-02d953be39bc",
   "metadata": {},
   "source": []
  },
  {
   "cell_type": "code",
   "execution_count": 95,
   "id": "44756e2d-a02a-44f3-a894-741d2827454b",
   "metadata": {},
   "outputs": [
    {
     "data": {
      "text/plain": [
       "{'Gender': ' Male ', 'Name': 'Hari', 'Age': '23', 'City': 'Airutar'}"
      ]
     },
     "execution_count": 95,
     "metadata": {},
     "output_type": "execute_result"
    }
   ],
   "source": [
    "person3"
   ]
  },
  {
   "cell_type": "code",
   "execution_count": 97,
   "id": "55367617-0b5b-4006-b9e6-82b9de8a77d1",
   "metadata": {},
   "outputs": [],
   "source": [
    "person3['Age'] = '2'"
   ]
  },
  {
   "cell_type": "raw",
   "id": "909a2b5d-840c-4b21-af7c-69bc90550d67",
   "metadata": {},
   "source": []
  },
  {
   "cell_type": "code",
   "execution_count": 99,
   "id": "629a1831-bfe9-4d7b-a563-d25262a30af0",
   "metadata": {},
   "outputs": [
    {
     "data": {
      "text/plain": [
       "{'Gender': ' Male ', 'Name': 'Hari', 'Age': '2', 'City': 'Airutar'}"
      ]
     },
     "execution_count": 99,
     "metadata": {},
     "output_type": "execute_result"
    }
   ],
   "source": [
    "person3"
   ]
  },
  {
   "cell_type": "code",
   "execution_count": 100,
   "id": "18716e61-6280-407b-a096-36367358c8cc",
   "metadata": {},
   "outputs": [
    {
     "data": {
      "text/plain": [
       "{'Gender': ' Male ', 'Name': 'Hari', 'Age': '23', 'City': 'Airutar'}"
      ]
     },
     "execution_count": 100,
     "metadata": {},
     "output_type": "execute_result"
    }
   ],
   "source": [
    "person2"
   ]
  },
  {
   "cell_type": "code",
   "execution_count": null,
   "id": "453c1eef-2ca9-4ba9-b6e5-f5884fcf6740",
   "metadata": {},
   "outputs": [],
   "source": []
  },
  {
   "cell_type": "markdown",
   "id": "9dad7286-84f8-406b-a3ed-7688d8717780",
   "metadata": {},
   "source": [
    "## Merging Two Dict "
   ]
  },
  {
   "cell_type": "code",
   "execution_count": 104,
   "id": "050c7b23-1c45-4346-9696-8204f86fbdbd",
   "metadata": {},
   "outputs": [],
   "source": [
    "thisdict = {\n",
    "  \"brand\": \"Ford\",\n",
    "  \"model\": \"Mustang\",\n",
    "  \"year\": 1964,\n",
    "    \"power\" : 128\n",
    "}\n"
   ]
  },
  {
   "cell_type": "code",
   "execution_count": 109,
   "id": "ca283c21-9fb6-43e3-97c6-caac80d5680e",
   "metadata": {},
   "outputs": [],
   "source": [
    "dict = {\n",
    "  \"brand\": \"Hyndai\",\n",
    "  \"model\": \"kona\",\n",
    "  \"year\": 1964,\n",
    "    \"color\" : \"Red\"\n",
    "}\n"
   ]
  },
  {
   "cell_type": "code",
   "execution_count": 111,
   "id": "13b04754-aea0-4b02-96e0-f46806e5caa0",
   "metadata": {},
   "outputs": [
    {
     "data": {
      "text/plain": [
       "{'brand': 'Hyndai',\n",
       " 'model': 'kona',\n",
       " 'year': 1964,\n",
       " 'power': 128,\n",
       " 'color': 'Red'}"
      ]
     },
     "execution_count": 111,
     "metadata": {},
     "output_type": "execute_result"
    }
   ],
   "source": [
    "result = thisdict | dict\n",
    "result\n"
   ]
  },
  {
   "cell_type": "code",
   "execution_count": null,
   "id": "dc02cf43-b82e-447a-8a9f-b106290685c5",
   "metadata": {},
   "outputs": [],
   "source": []
  },
  {
   "cell_type": "markdown",
   "id": "01f15ece-ff52-4fe1-bce0-4a9831258821",
   "metadata": {},
   "source": [
    "## Python Set Type\n"
   ]
  },
  {
   "cell_type": "code",
   "execution_count": 116,
   "id": "eb64c37f-6b2c-4988-8429-eff29c6a9a60",
   "metadata": {},
   "outputs": [],
   "source": [
    "my_set = {4.3,5,6,7,8,9}\n"
   ]
  },
  {
   "cell_type": "code",
   "execution_count": 117,
   "id": "7dabb9c5-dbde-4a9b-85e9-9cab0cd3169e",
   "metadata": {},
   "outputs": [
    {
     "data": {
      "text/plain": [
       "{4.3, 5, 6, 7, 8, 9}"
      ]
     },
     "execution_count": 117,
     "metadata": {},
     "output_type": "execute_result"
    }
   ],
   "source": [
    "my_set"
   ]
  },
  {
   "cell_type": "markdown",
   "id": "9524025e-c60a-4f9d-acab-7d25316ceb6b",
   "metadata": {},
   "source": [
    "## Set Operation"
   ]
  },
  {
   "cell_type": "code",
   "execution_count": 118,
   "id": "fedd8402-3169-408e-bb78-e8872ac76da3",
   "metadata": {},
   "outputs": [],
   "source": [
    "A = {1,2,3,4}\n",
    "B ={3,4,5,6,}\n"
   ]
  },
  {
   "cell_type": "code",
   "execution_count": 121,
   "id": "e21bd0c0-e786-4437-97a5-6b39819ee1a1",
   "metadata": {},
   "outputs": [],
   "source": [
    "unionset = A.intersection(B)"
   ]
  },
  {
   "cell_type": "code",
   "execution_count": 122,
   "id": "5084f7a8-942b-47d5-af98-8d094f6e5a60",
   "metadata": {},
   "outputs": [
    {
     "name": "stdout",
     "output_type": "stream",
     "text": [
      "{3, 4}\n"
     ]
    }
   ],
   "source": [
    "print(unionset)\n"
   ]
  },
  {
   "cell_type": "code",
   "execution_count": 123,
   "id": "5be705ba-fdc6-42e1-a141-5d6f3346f548",
   "metadata": {},
   "outputs": [
    {
     "data": {
      "text/plain": [
       "False"
      ]
     },
     "execution_count": 123,
     "metadata": {},
     "output_type": "execute_result"
    }
   ],
   "source": [
    "A.isdisjoint(B)"
   ]
  },
  {
   "cell_type": "code",
   "execution_count": 127,
   "id": "47e47e68-a4f8-4dc4-aff8-44cefad65c6d",
   "metadata": {},
   "outputs": [
    {
     "data": {
      "text/plain": [
       "{1, 2, 5, 6}"
      ]
     },
     "execution_count": 127,
     "metadata": {},
     "output_type": "execute_result"
    }
   ],
   "source": [
    "set2 = A.symmetric_difference(B)\n",
    "set2\n"
   ]
  },
  {
   "cell_type": "code",
   "execution_count": 128,
   "id": "aa8ff40c-9635-4ae4-b607-0478f042bac5",
   "metadata": {},
   "outputs": [],
   "source": [
    "set2.remove(1)"
   ]
  },
  {
   "cell_type": "code",
   "execution_count": 137,
   "id": "a1a407dd-e38f-41c7-a19c-07a844e2e297",
   "metadata": {},
   "outputs": [
    {
     "data": {
      "text/plain": [
       "{2, 5, 6}"
      ]
     },
     "execution_count": 137,
     "metadata": {},
     "output_type": "execute_result"
    }
   ],
   "source": [
    "set2"
   ]
  },
  {
   "cell_type": "code",
   "execution_count": 141,
   "id": "38d02bc3-ad27-471d-bfe4-3962c1ef7b1d",
   "metadata": {},
   "outputs": [
    {
     "data": {
      "text/plain": [
       "2"
      ]
     },
     "execution_count": 141,
     "metadata": {},
     "output_type": "execute_result"
    }
   ],
   "source": [
    "set2.pop()"
   ]
  },
  {
   "cell_type": "code",
   "execution_count": 142,
   "id": "18b4c463-7e35-4308-bd6f-a4eed1bef339",
   "metadata": {},
   "outputs": [
    {
     "data": {
      "text/plain": [
       "{5, 6}"
      ]
     },
     "execution_count": 142,
     "metadata": {},
     "output_type": "execute_result"
    }
   ],
   "source": [
    "set2"
   ]
  },
  {
   "cell_type": "code",
   "execution_count": 144,
   "id": "beaf282a-3cbc-43b1-8ee3-2aee58755999",
   "metadata": {},
   "outputs": [],
   "source": [
    "set2.add(2)"
   ]
  },
  {
   "cell_type": "code",
   "execution_count": 145,
   "id": "2434d35e-c841-4e9f-92d0-1d87989e5dbc",
   "metadata": {},
   "outputs": [
    {
     "data": {
      "text/plain": [
       "{2, 5, 6}"
      ]
     },
     "execution_count": 145,
     "metadata": {},
     "output_type": "execute_result"
    }
   ],
   "source": [
    "set2"
   ]
  },
  {
   "cell_type": "code",
   "execution_count": 146,
   "id": "64785917-7778-41e7-81de-207188a62c97",
   "metadata": {},
   "outputs": [
    {
     "data": {
      "text/plain": [
       "2"
      ]
     },
     "execution_count": 146,
     "metadata": {},
     "output_type": "execute_result"
    }
   ],
   "source": [
    "set2.pop()"
   ]
  },
  {
   "cell_type": "code",
   "execution_count": 147,
   "id": "c4694279-6f15-4b77-a46d-ad8910ea858b",
   "metadata": {},
   "outputs": [
    {
     "data": {
      "text/plain": [
       "{5, 6}"
      ]
     },
     "execution_count": 147,
     "metadata": {},
     "output_type": "execute_result"
    }
   ],
   "source": [
    "set2"
   ]
  },
  {
   "cell_type": "code",
   "execution_count": null,
   "id": "c6a54add-6dd1-4c9a-b5de-daa8fc6b9b38",
   "metadata": {},
   "outputs": [],
   "source": []
  }
 ],
 "metadata": {
  "kernelspec": {
   "display_name": "Python 3 (ipykernel)",
   "language": "python",
   "name": "python3"
  },
  "language_info": {
   "codemirror_mode": {
    "name": "ipython",
    "version": 3
   },
   "file_extension": ".py",
   "mimetype": "text/x-python",
   "name": "python",
   "nbconvert_exporter": "python",
   "pygments_lexer": "ipython3",
   "version": "3.12.6"
  }
 },
 "nbformat": 4,
 "nbformat_minor": 5
}
