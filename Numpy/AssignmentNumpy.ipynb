{
 "cells": [
  {
   "cell_type": "code",
   "execution_count": 7,
   "id": "c1e6ba8a-c8b6-4960-89d2-b1d22b52d8a2",
   "metadata": {},
   "outputs": [],
   "source": [
    "import numpy as np\n"
   ]
  },
  {
   "cell_type": "code",
   "execution_count": 8,
   "id": "3599d19b-1536-4fe0-a742-966aebe15305",
   "metadata": {},
   "outputs": [],
   "source": [
    "a = np.array([1,2,3,4,5])"
   ]
  },
  {
   "cell_type": "code",
   "execution_count": 9,
   "id": "8a019e19-2be2-45d5-8820-306810486690",
   "metadata": {},
   "outputs": [
    {
     "data": {
      "text/plain": [
       "array([1, 2, 3, 4, 5])"
      ]
     },
     "execution_count": 9,
     "metadata": {},
     "output_type": "execute_result"
    }
   ],
   "source": [
    "a"
   ]
  },
  {
   "cell_type": "code",
   "execution_count": 10,
   "id": "26e6b780-2758-4b1b-9071-07758b4fa32e",
   "metadata": {},
   "outputs": [],
   "source": [
    "b = np.random.randint(1,9,(3,3))"
   ]
  },
  {
   "cell_type": "code",
   "execution_count": 11,
   "id": "52c31cf7-50cb-427c-a662-05f8ed54a146",
   "metadata": {},
   "outputs": [
    {
     "data": {
      "text/plain": [
       "array([[3, 7, 5],\n",
       "       [1, 8, 7],\n",
       "       [1, 5, 5]], dtype=int32)"
      ]
     },
     "execution_count": 11,
     "metadata": {},
     "output_type": "execute_result"
    }
   ],
   "source": [
    "b"
   ]
  },
  {
   "cell_type": "code",
   "execution_count": 17,
   "id": "ee16a012-36b5-41d5-9537-221c7cc78812",
   "metadata": {},
   "outputs": [
    {
     "data": {
      "text/plain": [
       "np.int32(5)"
      ]
     },
     "execution_count": 17,
     "metadata": {},
     "output_type": "execute_result"
    }
   ],
   "source": [
    "b[2][2]"
   ]
  },
  {
   "cell_type": "code",
   "execution_count": 20,
   "id": "253cce57-58f1-4f2c-b430-a912a2367f52",
   "metadata": {},
   "outputs": [
    {
     "data": {
      "text/plain": [
       "array([[3, 7],\n",
       "       [1, 5]], dtype=int32)"
      ]
     },
     "execution_count": 20,
     "metadata": {},
     "output_type": "execute_result"
    }
   ],
   "source": [
    "b[::2, 0:2]"
   ]
  },
  {
   "cell_type": "code",
   "execution_count": 21,
   "id": "b2af9b1b-921d-43ac-bb38-8b21af884922",
   "metadata": {},
   "outputs": [],
   "source": [
    "b[2,0] = 100\n"
   ]
  },
  {
   "cell_type": "code",
   "execution_count": 22,
   "id": "25f38f69-7abd-49af-952c-e812ba5c4c4e",
   "metadata": {},
   "outputs": [
    {
     "data": {
      "text/plain": [
       "array([[  3,   7,   5],\n",
       "       [  1,   8,   7],\n",
       "       [100,   5,   5]], dtype=int32)"
      ]
     },
     "execution_count": 22,
     "metadata": {},
     "output_type": "execute_result"
    }
   ],
   "source": [
    "b"
   ]
  },
  {
   "cell_type": "code",
   "execution_count": 23,
   "id": "57b15385-8997-4b4d-989e-50ff96678dac",
   "metadata": {},
   "outputs": [
    {
     "data": {
      "text/plain": [
       "(3, 3)"
      ]
     },
     "execution_count": 23,
     "metadata": {},
     "output_type": "execute_result"
    }
   ],
   "source": [
    "b.shape"
   ]
  },
  {
   "cell_type": "code",
   "execution_count": 26,
   "id": "203fb5b3-63c4-41cd-874e-96cd444d5af2",
   "metadata": {},
   "outputs": [],
   "source": [
    "c = a.reshape(5,1)"
   ]
  },
  {
   "cell_type": "code",
   "execution_count": 27,
   "id": "d9d2c0a6-de1f-48ff-82a8-b89b7c504664",
   "metadata": {},
   "outputs": [
    {
     "data": {
      "text/plain": [
       "array([[1],\n",
       "       [2],\n",
       "       [3],\n",
       "       [4],\n",
       "       [5]])"
      ]
     },
     "execution_count": 27,
     "metadata": {},
     "output_type": "execute_result"
    }
   ],
   "source": [
    "c"
   ]
  },
  {
   "cell_type": "code",
   "execution_count": 29,
   "id": "626e82f5-6c9e-4955-84f2-9256af7e4fb5",
   "metadata": {},
   "outputs": [],
   "source": [
    "c = a.flatten()"
   ]
  },
  {
   "cell_type": "code",
   "execution_count": 30,
   "id": "179cda78-3da8-422a-bb6f-8f9caf0cb0c5",
   "metadata": {},
   "outputs": [
    {
     "data": {
      "text/plain": [
       "array([1, 2, 3, 4, 5])"
      ]
     },
     "execution_count": 30,
     "metadata": {},
     "output_type": "execute_result"
    }
   ],
   "source": [
    "c"
   ]
  },
  {
   "cell_type": "code",
   "execution_count": null,
   "id": "201552d3-2e67-4984-8d02-38dec5b57420",
   "metadata": {},
   "outputs": [],
   "source": []
  }
 ],
 "metadata": {
  "kernelspec": {
   "display_name": "Python 3 (ipykernel)",
   "language": "python",
   "name": "python3"
  },
  "language_info": {
   "codemirror_mode": {
    "name": "ipython",
    "version": 3
   },
   "file_extension": ".py",
   "mimetype": "text/x-python",
   "name": "python",
   "nbconvert_exporter": "python",
   "pygments_lexer": "ipython3",
   "version": "3.12.6"
  }
 },
 "nbformat": 4,
 "nbformat_minor": 5
}
