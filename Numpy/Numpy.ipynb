{
 "cells": [
  {
   "cell_type": "code",
   "execution_count": 1,
   "id": "6449e289-9da9-4834-a7db-c372f3d52d29",
   "metadata": {},
   "outputs": [
    {
     "name": "stdout",
     "output_type": "stream",
     "text": [
      "Requirement already satisfied: numpy in c:\\users\\manil\\desktop\\data science\\manil\\myenv\\lib\\site-packages (2.2.2)\n"
     ]
    },
    {
     "name": "stderr",
     "output_type": "stream",
     "text": [
      "\n",
      "[notice] A new release of pip is available: 24.2 -> 25.0.1\n",
      "[notice] To update, run: python.exe -m pip install --upgrade pip\n"
     ]
    }
   ],
   "source": [
    "!pip install numpy\n"
   ]
  },
  {
   "cell_type": "code",
   "execution_count": 2,
   "id": "b73a3c59-9118-467e-9848-4c103681ab55",
   "metadata": {},
   "outputs": [],
   "source": [
    "import numpy as np"
   ]
  },
  {
   "cell_type": "code",
   "execution_count": 22,
   "id": "56761817-0c67-46b6-86f9-d0417895b840",
   "metadata": {},
   "outputs": [],
   "source": [
    "a = np.array([1,2,3,4,5,])"
   ]
  },
  {
   "cell_type": "code",
   "execution_count": 23,
   "id": "e9c5f3ef-d3a3-4d25-a609-2ffcea9cff6b",
   "metadata": {},
   "outputs": [
    {
     "data": {
      "text/plain": [
       "array([1, 2, 3, 4, 5])"
      ]
     },
     "execution_count": 23,
     "metadata": {},
     "output_type": "execute_result"
    }
   ],
   "source": [
    "a"
   ]
  },
  {
   "cell_type": "code",
   "execution_count": 25,
   "id": "38dcba7c-6d25-4905-80fe-98dd42f577ba",
   "metadata": {},
   "outputs": [
    {
     "data": {
      "text/plain": [
       "(5,)"
      ]
     },
     "execution_count": 25,
     "metadata": {},
     "output_type": "execute_result"
    }
   ],
   "source": [
    "a.shape"
   ]
  },
  {
   "cell_type": "code",
   "execution_count": 26,
   "id": "13acbdf7-a0dc-4a9e-b92b-0d9a99278bd5",
   "metadata": {},
   "outputs": [],
   "source": [
    "b = np.random.randint(2,30,(5,3))"
   ]
  },
  {
   "cell_type": "code",
   "execution_count": 18,
   "id": "d7664015-5288-4694-b4c7-b3a1e9c2cdf9",
   "metadata": {},
   "outputs": [
    {
     "data": {
      "text/plain": [
       "array([[16, 24, 15],\n",
       "       [ 8, 18, 22],\n",
       "       [ 9, 19,  3],\n",
       "       [15, 14, 10],\n",
       "       [29,  6, 29]], dtype=int32)"
      ]
     },
     "execution_count": 18,
     "metadata": {},
     "output_type": "execute_result"
    }
   ],
   "source": [
    "b\n"
   ]
  },
  {
   "cell_type": "code",
   "execution_count": 44,
   "id": "c6b25b66-26b4-4251-8697-2559df7b5a37",
   "metadata": {},
   "outputs": [
    {
     "data": {
      "text/plain": [
       "2"
      ]
     },
     "execution_count": 44,
     "metadata": {},
     "output_type": "execute_result"
    }
   ],
   "source": [
    "b.ndim"
   ]
  },
  {
   "cell_type": "code",
   "execution_count": 45,
   "id": "e698fe20-3af0-4246-a1d7-24a10a07cc5a",
   "metadata": {},
   "outputs": [
    {
     "data": {
      "text/plain": [
       "array([[0., 0., 0.],\n",
       "       [0., 0., 0.],\n",
       "       [0., 0., 0.],\n",
       "       [0., 0., 0.],\n",
       "       [0., 0., 0.]])"
      ]
     },
     "execution_count": 45,
     "metadata": {},
     "output_type": "execute_result"
    }
   ],
   "source": [
    "np.zeros(shape = (5,3))"
   ]
  },
  {
   "cell_type": "code",
   "execution_count": 48,
   "id": "41d9d772-5544-4123-824b-8bbad14cec87",
   "metadata": {},
   "outputs": [],
   "source": [
    "m = np.array([1,2,3,4,5,6])"
   ]
  },
  {
   "cell_type": "code",
   "execution_count": 49,
   "id": "e52cfef5-308d-47e7-942f-56042a71cc6d",
   "metadata": {},
   "outputs": [
    {
     "data": {
      "text/plain": [
       "array([1, 2, 3, 4, 5, 6])"
      ]
     },
     "execution_count": 49,
     "metadata": {},
     "output_type": "execute_result"
    }
   ],
   "source": [
    "m\n"
   ]
  },
  {
   "cell_type": "code",
   "execution_count": 81,
   "id": "2dc9c49c-fc2c-4334-b048-954e45f59dd3",
   "metadata": {},
   "outputs": [],
   "source": [
    "#2D Dimension\n",
    "n = np.random.randint(0,10,(5,4))"
   ]
  },
  {
   "cell_type": "code",
   "execution_count": 82,
   "id": "080e49df-1827-4f7d-a755-47cb2d34535f",
   "metadata": {},
   "outputs": [
    {
     "data": {
      "text/plain": [
       "array([[1, 9, 8, 8],\n",
       "       [9, 7, 0, 3],\n",
       "       [4, 8, 6, 4],\n",
       "       [1, 7, 8, 8],\n",
       "       [1, 3, 2, 9]], dtype=int32)"
      ]
     },
     "execution_count": 82,
     "metadata": {},
     "output_type": "execute_result"
    }
   ],
   "source": [
    "n\n"
   ]
  },
  {
   "cell_type": "code",
   "execution_count": 83,
   "id": "483553bf-a45a-47a1-a74f-84cb80125f07",
   "metadata": {},
   "outputs": [
    {
     "data": {
      "text/plain": [
       "np.int32(3)"
      ]
     },
     "execution_count": 83,
     "metadata": {},
     "output_type": "execute_result"
    }
   ],
   "source": [
    "n[1][3]"
   ]
  },
  {
   "cell_type": "code",
   "execution_count": 84,
   "id": "6bd409df-24fd-4909-b435-95cf6cc23c69",
   "metadata": {},
   "outputs": [
    {
     "data": {
      "text/plain": [
       "np.int32(4)"
      ]
     },
     "execution_count": 84,
     "metadata": {},
     "output_type": "execute_result"
    }
   ],
   "source": [
    "n [2][3]"
   ]
  },
  {
   "cell_type": "code",
   "execution_count": 85,
   "id": "0b38add1-fcbc-4d58-992a-4bca82f85b75",
   "metadata": {},
   "outputs": [],
   "source": [
    "#3D Dimension\n",
    "o = np.random.randint(7,30,(4,3,3))"
   ]
  },
  {
   "cell_type": "code",
   "execution_count": 86,
   "id": "bc7c6009-f84d-4126-ae48-a2330a7e1628",
   "metadata": {},
   "outputs": [
    {
     "data": {
      "text/plain": [
       "array([[[10, 15, 29],\n",
       "        [21, 19, 16],\n",
       "        [ 9, 11, 21]],\n",
       "\n",
       "       [[16,  7, 13],\n",
       "        [ 9, 12, 16],\n",
       "        [18, 24, 26]],\n",
       "\n",
       "       [[ 8,  8, 11],\n",
       "        [24, 18, 18],\n",
       "        [23, 24, 22]],\n",
       "\n",
       "       [[ 8, 14, 13],\n",
       "        [11, 12, 10],\n",
       "        [17, 11, 17]]], dtype=int32)"
      ]
     },
     "execution_count": 86,
     "metadata": {},
     "output_type": "execute_result"
    }
   ],
   "source": [
    "o\n"
   ]
  },
  {
   "cell_type": "code",
   "execution_count": 87,
   "id": "c588bae2-847b-4932-8153-516cd7016e0f",
   "metadata": {},
   "outputs": [
    {
     "data": {
      "text/plain": [
       "np.int32(12)"
      ]
     },
     "execution_count": 87,
     "metadata": {},
     "output_type": "execute_result"
    }
   ],
   "source": [
    "o [3][1][1]"
   ]
  },
  {
   "cell_type": "code",
   "execution_count": 88,
   "id": "bbf1df13-21a3-4504-8060-40de10cba605",
   "metadata": {},
   "outputs": [
    {
     "data": {
      "text/plain": [
       "np.int32(12)"
      ]
     },
     "execution_count": 88,
     "metadata": {},
     "output_type": "execute_result"
    }
   ],
   "source": [
    "o [1][1][1]"
   ]
  },
  {
   "cell_type": "code",
   "execution_count": 89,
   "id": "be575de6-b2f5-443d-871a-2176a61b4815",
   "metadata": {},
   "outputs": [
    {
     "data": {
      "text/plain": [
       "array([1, 2, 3, 4, 5, 6])"
      ]
     },
     "execution_count": 89,
     "metadata": {},
     "output_type": "execute_result"
    }
   ],
   "source": [
    "#Slicing in 1D Array \n",
    "m\n"
   ]
  },
  {
   "cell_type": "code",
   "execution_count": 90,
   "id": "e46c5e2e-6944-452e-b320-37dbfd8df0ce",
   "metadata": {},
   "outputs": [
    {
     "data": {
      "text/plain": [
       "array([2, 4])"
      ]
     },
     "execution_count": 90,
     "metadata": {},
     "output_type": "execute_result"
    }
   ],
   "source": [
    "m[1:-1:2]"
   ]
  },
  {
   "cell_type": "code",
   "execution_count": 91,
   "id": "d43a295f-38d5-41cd-91f7-554537f5624f",
   "metadata": {},
   "outputs": [
    {
     "data": {
      "text/plain": [
       "array([[1, 9, 8, 8],\n",
       "       [9, 7, 0, 3],\n",
       "       [4, 8, 6, 4],\n",
       "       [1, 7, 8, 8],\n",
       "       [1, 3, 2, 9]], dtype=int32)"
      ]
     },
     "execution_count": 91,
     "metadata": {},
     "output_type": "execute_result"
    }
   ],
   "source": [
    "#Slicing 2D array\n",
    "n"
   ]
  },
  {
   "cell_type": "code",
   "execution_count": 93,
   "id": "36431516-752f-444e-ac37-f6a8c63d0478",
   "metadata": {},
   "outputs": [
    {
     "data": {
      "text/plain": [
       "np.int32(6)"
      ]
     },
     "execution_count": 93,
     "metadata": {},
     "output_type": "execute_result"
    }
   ],
   "source": [
    "#Index Slicing\n",
    "n[::2][1][2]"
   ]
  },
  {
   "cell_type": "code",
   "execution_count": 98,
   "id": "4440f40a-a84c-4353-86b4-2e2dca86957b",
   "metadata": {},
   "outputs": [
    {
     "data": {
      "text/plain": [
       "array([[1, 9, 8, 8],\n",
       "       [4, 8, 6, 4],\n",
       "       [1, 3, 2, 9]], dtype=int32)"
      ]
     },
     "execution_count": 98,
     "metadata": {},
     "output_type": "execute_result"
    }
   ],
   "source": [
    "#Row Slicing\n",
    "n[::2]"
   ]
  },
  {
   "cell_type": "code",
   "execution_count": 99,
   "id": "4c17db4c-e6b8-41c6-b4f7-08e0cb1bc810",
   "metadata": {},
   "outputs": [
    {
     "data": {
      "text/plain": [
       "array([[9, 8],\n",
       "       [7, 0],\n",
       "       [8, 6],\n",
       "       [7, 8],\n",
       "       [3, 2]], dtype=int32)"
      ]
     },
     "execution_count": 99,
     "metadata": {},
     "output_type": "execute_result"
    }
   ],
   "source": [
    "#Column Slicing\n",
    "n[::1 , 1:3]"
   ]
  },
  {
   "cell_type": "code",
   "execution_count": 127,
   "id": "8007dfb8-8e13-423d-b836-e6eb7749e03a",
   "metadata": {},
   "outputs": [],
   "source": [
    "#Boolean or Mask Indexing \n",
    "a = np.random.randint(2,10,(4,3))"
   ]
  },
  {
   "cell_type": "code",
   "execution_count": 128,
   "id": "32e9918e-770a-427a-b44a-6feec6ef78d8",
   "metadata": {},
   "outputs": [
    {
     "data": {
      "text/plain": [
       "array([[3, 7, 8],\n",
       "       [7, 2, 2],\n",
       "       [8, 2, 2],\n",
       "       [4, 3, 7]], dtype=int32)"
      ]
     },
     "execution_count": 128,
     "metadata": {},
     "output_type": "execute_result"
    }
   ],
   "source": [
    "a"
   ]
  },
  {
   "cell_type": "code",
   "execution_count": 129,
   "id": "a0cb7a8e-b92d-4d06-82b3-1793ec1dbe9e",
   "metadata": {},
   "outputs": [],
   "source": [
    " mask = a%2==0"
   ]
  },
  {
   "cell_type": "code",
   "execution_count": 130,
   "id": "5ffbbf21-6171-4203-824b-b218ce980fee",
   "metadata": {},
   "outputs": [
    {
     "data": {
      "text/plain": [
       "array([[False, False,  True],\n",
       "       [False,  True,  True],\n",
       "       [ True,  True,  True],\n",
       "       [ True, False, False]])"
      ]
     },
     "execution_count": 130,
     "metadata": {},
     "output_type": "execute_result"
    }
   ],
   "source": [
    "mask\n"
   ]
  },
  {
   "cell_type": "code",
   "execution_count": 131,
   "id": "8e1e50f5-b540-4e49-bba4-cb137fa3ee68",
   "metadata": {},
   "outputs": [
    {
     "data": {
      "text/plain": [
       "array([8, 2, 2, 8, 2, 2, 4], dtype=int32)"
      ]
     },
     "execution_count": 131,
     "metadata": {},
     "output_type": "execute_result"
    }
   ],
   "source": [
    "a[mask]"
   ]
  },
  {
   "cell_type": "code",
   "execution_count": null,
   "id": "688753cb-2fdd-495a-9ab2-886e04ea458c",
   "metadata": {},
   "outputs": [],
   "source": []
  }
 ],
 "metadata": {
  "kernelspec": {
   "display_name": "Python 3 (ipykernel)",
   "language": "python",
   "name": "python3"
  },
  "language_info": {
   "codemirror_mode": {
    "name": "ipython",
    "version": 3
   },
   "file_extension": ".py",
   "mimetype": "text/x-python",
   "name": "python",
   "nbconvert_exporter": "python",
   "pygments_lexer": "ipython3",
   "version": "3.12.6"
  }
 },
 "nbformat": 4,
 "nbformat_minor": 5
}
