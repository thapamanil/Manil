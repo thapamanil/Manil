{
 "cells": [
  {
   "cell_type": "markdown",
   "id": "7075140c-c9a2-44b7-b887-8134f3afd579",
   "metadata": {},
   "source": [
    "Question 1"
   ]
  },
  {
   "cell_type": "code",
   "execution_count": 1,
   "id": "c242789c-6547-445b-8978-e7041e56d1b9",
   "metadata": {},
   "outputs": [
    {
     "name": "stdin",
     "output_type": "stream",
     "text": [
      "Enter a word which you wish to check: 22\n"
     ]
    },
    {
     "name": "stdout",
     "output_type": "stream",
     "text": [
      "True\n"
     ]
    }
   ],
   "source": [
    "word = str(input(\"Enter a word which you wish to check:\"))\n",
    "pal = lambda word: word == word[::-1]\n",
    "\n",
    "if pal(word.lower()):\n",
    "    print(\"True\")\n",
    "else:\n",
    "    print(\"False\")"
   ]
  },
  {
   "cell_type": "markdown",
   "id": "e40b6665-d867-4541-a629-761436dacaed",
   "metadata": {},
   "source": [
    "Question 2"
   ]
  },
  {
   "cell_type": "code",
   "execution_count": 2,
   "id": "6cce3cf1-a9f4-46e1-a530-5a294c4a7678",
   "metadata": {},
   "outputs": [
    {
     "name": "stdin",
     "output_type": "stream",
     "text": [
      "Enter a number: 23\n"
     ]
    },
    {
     "name": "stdout",
     "output_type": "stream",
     "text": [
      "It's not an Armstrong number.\n"
     ]
    }
   ],
   "source": [
    "def is_armstrong(num):\n",
    "    digits = int(num)\n",
    "    length = len(num)\n",
    "    sum = 0\n",
    "    for num in num:\n",
    "        sum = sum + int(num)**length\n",
    "\n",
    "    if digits == sum:\n",
    "        print(\"It's an Armstrong number.\")\n",
    "    else:\n",
    "        print(\"It's not an Armstrong number.\")\n",
    "\n",
    "num = input(\"Enter a number:\") #num is a string\n",
    "is_armstrong(num)"
   ]
  },
  {
   "cell_type": "markdown",
   "id": "646ce8fe-0629-4cd8-8cde-78c02bc1327e",
   "metadata": {},
   "source": [
    "Question 3"
   ]
  },
  {
   "cell_type": "code",
   "execution_count": 4,
   "id": "667be2ed-83ed-4607-a7ab-406e581af868",
   "metadata": {},
   "outputs": [],
   "source": [
    "def write_to_file(filename, content):\n",
    "    with open(filename, mode =\"w\") as file:\n",
    "        file.write(content)\n",
    "        file.close()\n",
    "\n",
    "\n",
    "def read_from_file(filename):\n",
    "\n",
    "        with open(filename, mode = \"r\") as file:\n",
    "            print(file.read())\n",
    "\n",
    "\n",
    "write_to_file(\"hello.txt\", \"Hello,Everyone\")"
   ]
  },
  {
   "cell_type": "code",
   "execution_count": 5,
   "id": "8de3208b-66eb-44d1-a637-8f59b5dadc09",
   "metadata": {},
   "outputs": [
    {
     "name": "stdout",
     "output_type": "stream",
     "text": [
      "Hello,Everyone\n"
     ]
    }
   ],
   "source": [
    "read_from_file(\"hello.txt\")"
   ]
  },
  {
   "cell_type": "markdown",
   "id": "f8dab4b9-23f8-4c78-a6e5-13e565ba968a",
   "metadata": {},
   "source": [
    "Question 4"
   ]
  },
  {
   "cell_type": "code",
   "execution_count": 8,
   "id": "592bff80-789f-4a08-9804-be9fd4e72ee2",
   "metadata": {},
   "outputs": [
    {
     "name": "stdout",
     "output_type": "stream",
     "text": [
      "Vehicle ID: 1\n",
      "Brand: Tesla\n",
      "Rental Price: Rs.15000\n",
      "Rental Cost for 5 days: Rs.75000\n",
      "\n",
      "Vehicle ID: 2\n",
      "Brand: BYD\n",
      "Rental Price: Rs.18000\n",
      "Number of Doors: 4\n",
      "Rental Cost for 5 days: Rs.90000\n",
      "\n",
      "Vehicle ID: 3\n",
      "Brand: Bullet\n",
      "Rental Price: Rs.8000\n",
      "Type: Sports\n",
      "Rental Cost for 5 days: Rs.40000\n",
      "\n"
     ]
    }
   ],
   "source": [
    "class Vehicle:\n",
    " \n",
    "\n",
    "    def __init__(self, vehicle_id: int, brand: str, rental_price: float):\n",
    "       \n",
    "        self.vehicle_id = vehicle_id\n",
    "        self.brand = brand\n",
    "        self.rental_price = rental_price\n",
    "\n",
    "    def rental_cost(self, rental_days: int) -> None:\n",
    "       \n",
    "        total_cost = self.rental_price * rental_days\n",
    "        print(f\"Rental Cost for {rental_days} days: Rs.{total_cost}\\n\")\n",
    "\n",
    "    def display_details(self) -> None:\n",
    "        \"\"\"\n",
    "        Display vehicle details.\n",
    "        \"\"\"\n",
    "        print(f\"Vehicle ID: {self.vehicle_id}\\nBrand: {self.brand}\\nRental Price: Rs.{self.rental_price}\")\n",
    "\n",
    "\n",
    "class Car(Vehicle):\n",
    "    \"\"\"\n",
    "    Subclass of Vehicle representing a car.\n",
    "    \"\"\"\n",
    "\n",
    "    def __init__(self, vehicle_id: int, brand: str, rental_price: float, door_number: int):\n",
    "       \n",
    "        super().__init__(vehicle_id, brand, rental_price)\n",
    "        self.door_number = door_number\n",
    "\n",
    "    def display_details(self) -> None:\n",
    "        \"\"\"\n",
    "        Display car details including the number of doors.\n",
    "        \"\"\"\n",
    "        super().display_details()\n",
    "        print(f\"Number of Doors: {self.door_number}\")\n",
    "\n",
    "\n",
    "class Bike(Vehicle):\n",
    "  \n",
    "    def __init__(self, vehicle_id: int, brand: str, rental_price: float, bike_type: str):\n",
    "      \n",
    "        super().__init__(vehicle_id, brand, rental_price)\n",
    "        self.bike_type = bike_type\n",
    "\n",
    "    def display_details(self) -> None:\n",
    "        \"\"\"\n",
    "        Display bike details including the type of bike.\n",
    "        \"\"\"\n",
    "        super().display_details()\n",
    "        print(f\"Type: {self.bike_type}\")\n",
    "\n",
    "\n",
    "# Example usage\n",
    "if __name__ == \"__main__\":\n",
    "    # Creating and testing a bus (base Vehicle class)\n",
    "    bus = Vehicle(vehicle_id=1, brand=\"Tesla\", rental_price=15000)\n",
    "    bus.display_details()\n",
    "    bus.rental_cost(5)\n",
    "\n",
    "    # Creating and testing a car\n",
    "    car = Car(vehicle_id=2, brand=\"BYD\", rental_price=18000, door_number=4)\n",
    "    car.display_details()\n",
    "    car.rental_cost(5)\n",
    "\n",
    "    # Creating and testing a bike\n",
    "    bike = Bike(vehicle_id=3, brand=\"Bullet\", rental_price=8000, bike_type=\"Sports\")\n",
    "    bike.display_details()\n",
    "    bike.rental_cost(5)\n"
   ]
  },
  {
   "cell_type": "code",
   "execution_count": null,
   "id": "56cbfb86-4249-4ebd-9f66-c859f8eaa4fd",
   "metadata": {},
   "outputs": [],
   "source": []
  }
 ],
 "metadata": {
  "kernelspec": {
   "display_name": "Python 3 (ipykernel)",
   "language": "python",
   "name": "python3"
  },
  "language_info": {
   "codemirror_mode": {
    "name": "ipython",
    "version": 3
   },
   "file_extension": ".py",
   "mimetype": "text/x-python",
   "name": "python",
   "nbconvert_exporter": "python",
   "pygments_lexer": "ipython3",
   "version": "3.12.6"
  }
 },
 "nbformat": 4,
 "nbformat_minor": 5
}
