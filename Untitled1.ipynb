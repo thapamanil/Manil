{
 "cells": [
  {
   "cell_type": "code",
   "execution_count": null,
   "id": "40d2acd0-d8a5-4c71-af5f-4f027444cd76",
   "metadata": {},
   "outputs": [],
   "source": []
  }
 ],
 "metadata": {
  "kernelspec": {
   "display_name": "",
   "name": ""
  },
  "language_info": {
   "name": ""
  }
 },
 "nbformat": 4,
 "nbformat_minor": 5
}
