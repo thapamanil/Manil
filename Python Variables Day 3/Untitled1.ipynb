{
 "cells": [
  {
   "cell_type": "code",
   "execution_count": 3,
   "id": "b562b944-5331-4150-a5d5-a30a70ba9f4e",
   "metadata": {},
   "outputs": [
    {
     "name": "stdout",
     "output_type": "stream",
     "text": [
      "[1, 9, 25, 49, 81, 121, 169, 225, 289, 361, 441, 529, 625, 729, 841, 961, 1089, 1225, 1369, 1521, 1681, 1849, 2025, 2209, 2401]\n"
     ]
    }
   ],
   "source": [
    "# Usual Way\n",
    "numbers = range(1,50,2)\n",
    "\n",
    "squared = []\n",
    "for each in numbers:\n",
    "    squared.append(each ** 2)\n",
    "\n",
    "print(squared)"
   ]
  },
  {
   "cell_type": "code",
   "execution_count": 5,
   "id": "917944de-23d4-4deb-b130-f95af8bb39fb",
   "metadata": {},
   "outputs": [
    {
     "name": "stdout",
     "output_type": "stream",
     "text": [
      "[1, 9, 25, 49, 81, 121, 169, 225, 289, 361, 441, 529, 625, 729, 841, 961, 1089, 1225, 1369, 1521, 1681, 1849, 2025, 2209, 2401]\n"
     ]
    }
   ],
   "source": [
    "# Using comprehensions\n",
    "c_squared = [num ** 2 for num in numbers]\n",
    "print(c_squared)"
   ]
  },
  {
   "cell_type": "code",
   "execution_count": 12,
   "id": "c8d0bb27-15a6-4670-bec1-6b7ef3c38dfe",
   "metadata": {},
   "outputs": [
    {
     "name": "stdout",
     "output_type": "stream",
     "text": [
      "{1: 1, 2: 4, 3: 9, 4: 16, 5: 25, 6: 36, 7: 49, 8: 64, 9: 81}\n"
     ]
    }
   ],
   "source": [
    "#Dict Comprehesion\n",
    "\n",
    "odd_dict = {num:num**2 for num in range(1,10)}\n",
    "print(odd_dict)\n"
   ]
  },
  {
   "cell_type": "code",
   "execution_count": 13,
   "id": "77c9cf41-32d9-41e6-9c74-afe7b6470908",
   "metadata": {},
   "outputs": [
    {
     "name": "stdout",
     "output_type": "stream",
     "text": [
      "{2: 4, 4: 16, 6: 36, 8: 64}\n"
     ]
    }
   ],
   "source": [
    "#Dict Comprehesion\n",
    "\n",
    "even_dict = {num:num**2 for num in range(1,10) if num %2==0}\n",
    "print(even_dict)\n"
   ]
  },
  {
   "cell_type": "code",
   "execution_count": 18,
   "id": "63647642-e917-4ca7-b381-35e6deeb9431",
   "metadata": {},
   "outputs": [],
   "source": [
    "sent = \"\"\"A single training set that has already been processed is usually split into several types of datasets in machine learning which is needed to check how well the training of the model went\"\"\""
   ]
  },
  {
   "cell_type": "code",
   "execution_count": 19,
   "id": "bcf32f46-71bb-40d6-a84d-258b2b7940de",
   "metadata": {},
   "outputs": [
    {
     "name": "stdout",
     "output_type": "stream",
     "text": [
      "A single training set that has already been processed is usually split into several types of datasets in machine learning which is needed to check how well the training of the model went\n"
     ]
    }
   ],
   "source": [
    "print(sent)\n"
   ]
  },
  {
   "cell_type": "code",
   "execution_count": 27,
   "id": "52721ace-ce3d-43ea-b1fd-c14d0d6a69c7",
   "metadata": {},
   "outputs": [
    {
     "name": "stdout",
     "output_type": "stream",
     "text": [
      "{'single': 6, 'training': 8, 'already': 7, 'processed': 9, 'usually': 7, 'split': 5, 'several': 7, 'types': 5, 'datasets': 8, 'machine': 7, 'learning': 8, 'which': 5, 'needed': 6, 'check': 5, 'model': 5}\n"
     ]
    }
   ],
   "source": [
    "counter = {each : len(each) for each in sent.split(\" \") if len(each)>=5 \n",
    "          }\n",
    "print(counter)"
   ]
  },
  {
   "cell_type": "markdown",
   "id": "9591520e-c899-4aaf-bf09-234fad074312",
   "metadata": {},
   "source": [
    "**Set Comprehension**\n",
    "new_set = {expression for item in iterable if condition}\n",
    "\n"
   ]
  },
  {
   "cell_type": "code",
   "execution_count": 29,
   "id": "235466cd-7468-4432-9108-ccfd4fc92b10",
   "metadata": {},
   "outputs": [],
   "source": [
    "squared_even = {num**2 for num in range(1,10) if num%2 == 0}\n"
   ]
  },
  {
   "cell_type": "code",
   "execution_count": 30,
   "id": "563df99e-5d59-4daf-89c0-01afb5f9c646",
   "metadata": {},
   "outputs": [
    {
     "name": "stdout",
     "output_type": "stream",
     "text": [
      "{16, 64, 4, 36}\n"
     ]
    }
   ],
   "source": [
    "print(squared_even)"
   ]
  },
  {
   "cell_type": "code",
   "execution_count": 38,
   "id": "01885feb-fcfd-4f74-b9a7-ad10f8029196",
   "metadata": {},
   "outputs": [
    {
     "name": "stdout",
     "output_type": "stream",
     "text": [
      "['aa', 'ab', 'ac', 'ba', 'bb', 'bc', 'ca', 'cb', 'cc']\n"
     ]
    }
   ],
   "source": [
    "letters = ['a','b','c']\n",
    "pairs = [let1 + let2 for let1 in letters for let2 in letters]\n",
    "print(pairs)\n"
   ]
  },
  {
   "cell_type": "code",
   "execution_count": 47,
   "id": "aa6e8a99-b520-4127-9252-86b6adb3a63b",
   "metadata": {},
   "outputs": [
    {
     "name": "stdout",
     "output_type": "stream",
     "text": [
      "{'i', 'e', 'a', 'o'}\n"
     ]
    }
   ],
   "source": [
    "sent = \"Set comprehensions can  be nested\"\n",
    "vowels = \"aeiou\"\n",
    "output = { char for char in sent.lower() if char in set(vowels) }\n",
    "print(output)\n"
   ]
  },
  {
   "cell_type": "code",
   "execution_count": null,
   "id": "ecaab617-6bdc-4689-a5f7-1791714e1750",
   "metadata": {},
   "outputs": [],
   "source": []
  },
  {
   "cell_type": "code",
   "execution_count": 51,
   "id": "26b3f72f-c624-41f5-b095-c26124232c9a",
   "metadata": {},
   "outputs": [
    {
     "name": "stdout",
     "output_type": "stream",
     "text": [
      "{100: 20000, 300: 120000}\n"
     ]
    }
   ],
   "source": [
    "output = {w:w*h for w,h in[(100,200), (300,400)]}\n",
    "print(output)\n"
   ]
  },
  {
   "cell_type": "code",
   "execution_count": null,
   "id": "71379ac0-1581-4c46-996c-c41ef255db2d",
   "metadata": {},
   "outputs": [],
   "source": []
  },
  {
   "cell_type": "code",
   "execution_count": null,
   "id": "3c8925e0-d8e3-4595-b98a-8a1bd8228aac",
   "metadata": {},
   "outputs": [],
   "source": []
  }
 ],
 "metadata": {
  "kernelspec": {
   "display_name": "Python 3 (ipykernel)",
   "language": "python",
   "name": "python3"
  },
  "language_info": {
   "codemirror_mode": {
    "name": "ipython",
    "version": 3
   },
   "file_extension": ".py",
   "mimetype": "text/x-python",
   "name": "python",
   "nbconvert_exporter": "python",
   "pygments_lexer": "ipython3",
   "version": "3.12.6"
  }
 },
 "nbformat": 4,
 "nbformat_minor": 5
}
