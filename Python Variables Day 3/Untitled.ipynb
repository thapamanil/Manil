{
 "cells": [
  {
   "cell_type": "code",
   "execution_count": 1,
   "id": "4519c840-21e1-440c-9ebb-bebd944ff615",
   "metadata": {},
   "outputs": [],
   "source": [
    "my_var = 22"
   ]
  },
  {
   "cell_type": "code",
   "execution_count": 2,
   "id": "cfa1e7f7-0ebb-41c5-8fb4-e3646278264c",
   "metadata": {},
   "outputs": [
    {
     "name": "stdout",
     "output_type": "stream",
     "text": [
      "22\n"
     ]
    }
   ],
   "source": [
    "print (my_var)"
   ]
  },
  {
   "cell_type": "code",
   "execution_count": 3,
   "id": "625b4a2b-bfdb-4e0e-9049-3c4ccdca6b7c",
   "metadata": {},
   "outputs": [
    {
     "data": {
      "text/plain": [
       "int"
      ]
     },
     "execution_count": 3,
     "metadata": {},
     "output_type": "execute_result"
    }
   ],
   "source": [
    "type (my_var)\n"
   ]
  },
  {
   "cell_type": "code",
   "execution_count": 4,
   "id": "4d0f6ffe-d7f8-4385-8534-5f735a529a40",
   "metadata": {},
   "outputs": [],
   "source": [
    "x = 6 - 3j \n"
   ]
  },
  {
   "cell_type": "code",
   "execution_count": 6,
   "id": "c7c4f1f1-fb1e-4729-a68c-73f8e83dc5e5",
   "metadata": {},
   "outputs": [
    {
     "data": {
      "text/plain": [
       "complex"
      ]
     },
     "execution_count": 6,
     "metadata": {},
     "output_type": "execute_result"
    }
   ],
   "source": [
    "type(x)\n",
    "\n"
   ]
  },
  {
   "cell_type": "code",
   "execution_count": 7,
   "id": "a8027a3f-1a5d-4d5b-b68e-0bd2fa51575c",
   "metadata": {},
   "outputs": [],
   "source": [
    "x = 2\n",
    "y = 2 + 3j"
   ]
  },
  {
   "cell_type": "code",
   "execution_count": 8,
   "id": "c9574379-4544-4b76-b466-729548d0834b",
   "metadata": {},
   "outputs": [
    {
     "data": {
      "text/plain": [
       "(4+3j)"
      ]
     },
     "execution_count": 8,
     "metadata": {},
     "output_type": "execute_result"
    }
   ],
   "source": [
    "x + y\n"
   ]
  },
  {
   "cell_type": "code",
   "execution_count": 9,
   "id": "559c5523-6f57-4356-8d9d-5bba59b53003",
   "metadata": {},
   "outputs": [
    {
     "data": {
      "text/plain": [
       "25"
      ]
     },
     "execution_count": 9,
     "metadata": {},
     "output_type": "execute_result"
    }
   ],
   "source": [
    "5 ** 2\n"
   ]
  },
  {
   "cell_type": "code",
   "execution_count": 10,
   "id": "77beae8d-a390-4f1d-80b3-34664ebc7370",
   "metadata": {},
   "outputs": [],
   "source": [
    "num1 = 22\n",
    "num2 = 22"
   ]
  },
  {
   "cell_type": "code",
   "execution_count": 13,
   "id": "54b9265b-5c13-4791-9553-18a211ea513e",
   "metadata": {},
   "outputs": [
    {
     "data": {
      "text/plain": [
       "True"
      ]
     },
     "execution_count": 13,
     "metadata": {},
     "output_type": "execute_result"
    }
   ],
   "source": [
    "num1 <= num2\n"
   ]
  },
  {
   "cell_type": "code",
   "execution_count": 14,
   "id": "917edf98-eca7-4bcb-a830-d7c2f42da150",
   "metadata": {},
   "outputs": [],
   "source": [
    "import math\n"
   ]
  },
  {
   "cell_type": "code",
   "execution_count": 15,
   "id": "b64f3cd2-12a2-49f6-9f6f-4c027ef42a6a",
   "metadata": {},
   "outputs": [],
   "source": [
    "x = -22.34"
   ]
  },
  {
   "cell_type": "code",
   "execution_count": 19,
   "id": "b2ec6ff8-9f27-434d-8e26-5626b27ecba2",
   "metadata": {},
   "outputs": [
    {
     "data": {
      "text/plain": [
       "5.0"
      ]
     },
     "execution_count": 19,
     "metadata": {},
     "output_type": "execute_result"
    }
   ],
   "source": [
    "math.sqrt(25)"
   ]
  },
  {
   "cell_type": "code",
   "execution_count": 21,
   "id": "22f59ffa-875d-4e20-98e1-61b9ab7cad78",
   "metadata": {},
   "outputs": [],
   "source": [
    "x = 2\n",
    "y = 2\n"
   ]
  },
  {
   "cell_type": "code",
   "execution_count": 22,
   "id": "a10b4b14-a0be-441d-b09d-baff6b50338c",
   "metadata": {},
   "outputs": [
    {
     "data": {
      "text/plain": [
       "1"
      ]
     },
     "execution_count": 22,
     "metadata": {},
     "output_type": "execute_result"
    }
   ],
   "source": [
    "x // 2\n"
   ]
  },
  {
   "cell_type": "code",
   "execution_count": 23,
   "id": "0fac08c1-293a-4218-b83e-4cc3cc6e199e",
   "metadata": {},
   "outputs": [
    {
     "data": {
      "text/plain": [
       "-0.9880316240928618"
      ]
     },
     "execution_count": 23,
     "metadata": {},
     "output_type": "execute_result"
    }
   ],
   "source": [
    "math.sin(30)"
   ]
  },
  {
   "cell_type": "code",
   "execution_count": 25,
   "id": "1e723e4f-3c4d-4bcc-b56a-7f3b6f0c3ce2",
   "metadata": {},
   "outputs": [
    {
     "data": {
      "text/plain": [
       "1.0"
      ]
     },
     "execution_count": 25,
     "metadata": {},
     "output_type": "execute_result"
    }
   ],
   "source": [
    "math.gamma(x)"
   ]
  },
  {
   "cell_type": "code",
   "execution_count": 26,
   "id": "fe3db695-ee89-48cd-aca8-9c2a5d356e2b",
   "metadata": {},
   "outputs": [
    {
     "name": "stdout",
     "output_type": "stream",
     "text": [
      "2\n"
     ]
    }
   ],
   "source": [
    "print(x)"
   ]
  },
  {
   "cell_type": "code",
   "execution_count": 27,
   "id": "b18eeb2b-0e84-46a3-9b20-7a2c109bf12d",
   "metadata": {},
   "outputs": [
    {
     "data": {
      "text/plain": [
       "1.0"
      ]
     },
     "execution_count": 27,
     "metadata": {},
     "output_type": "execute_result"
    }
   ],
   "source": [
    "math.gamma(x)"
   ]
  },
  {
   "cell_type": "code",
   "execution_count": null,
   "id": "ba15b6e9-9e8e-482b-a583-ec6412ce237c",
   "metadata": {},
   "outputs": [],
   "source": []
  },
  {
   "cell_type": "code",
   "execution_count": null,
   "id": "2bd235ea-893c-45e5-8a2e-b7581bc7b53b",
   "metadata": {},
   "outputs": [],
   "source": []
  },
  {
   "cell_type": "code",
   "execution_count": null,
   "id": "708dcfc7-d0f2-4c7e-9542-cf7baca0961f",
   "metadata": {},
   "outputs": [],
   "source": []
  },
  {
   "cell_type": "markdown",
   "id": "44a41273-4c6a-41b6-a782-6f0d4da613bb",
   "metadata": {},
   "source": [
    "Text Type"
   ]
  },
  {
   "cell_type": "code",
   "execution_count": 33,
   "id": "b62728a4-45f6-4b1f-99ed-04608ff83f30",
   "metadata": {},
   "outputs": [],
   "source": [
    "name = \"Manil\"\n",
    "age = 21\n"
   ]
  },
  {
   "cell_type": "code",
   "execution_count": 35,
   "id": "09784d3a-d1ed-4abd-a43e-5307960c803a",
   "metadata": {},
   "outputs": [
    {
     "name": "stdout",
     "output_type": "stream",
     "text": [
      "My name is Manil and i am 21 old .\n"
     ]
    }
   ],
   "source": [
    "print(f\"My name is {name} and i am {age} old .\")"
   ]
  },
  {
   "cell_type": "code",
   "execution_count": 36,
   "id": "74edaa94-4942-484b-9d12-effaf2691107",
   "metadata": {},
   "outputs": [
    {
     "name": "stdout",
     "output_type": "stream",
     "text": [
      "My name is Manil and i am 21 old.\n"
     ]
    }
   ],
   "source": [
    "print (f\"My name is {name} and i am {age} old.\")\n"
   ]
  },
  {
   "cell_type": "markdown",
   "id": "4d815ae6-926d-4fca-a921-1340dd2b9286",
   "metadata": {},
   "source": [
    "String Concatention\n"
   ]
  },
  {
   "cell_type": "code",
   "execution_count": 38,
   "id": "46b2a3bc-2d84-4baa-8514-43de59bac15a",
   "metadata": {},
   "outputs": [
    {
     "data": {
      "text/plain": [
       "'My Name Is'"
      ]
     },
     "execution_count": 38,
     "metadata": {},
     "output_type": "execute_result"
    }
   ],
   "source": [
    "x = \"My\"\n",
    "y = \"Name\"\n",
    "z = \"Is\"\n",
    "x + \" \" + y + \" \" + z "
   ]
  },
  {
   "cell_type": "code",
   "execution_count": null,
   "id": "93fca22c-8c1c-47dc-a7ba-203e6a31b752",
   "metadata": {},
   "outputs": [],
   "source": []
  },
  {
   "cell_type": "code",
   "execution_count": null,
   "id": "d0654a88-0787-48dc-8921-5223e49c9ee0",
   "metadata": {},
   "outputs": [],
   "source": []
  }
 ],
 "metadata": {
  "kernelspec": {
   "display_name": "Python 3 (ipykernel)",
   "language": "python",
   "name": "python3"
  },
  "language_info": {
   "codemirror_mode": {
    "name": "ipython",
    "version": 3
   },
   "file_extension": ".py",
   "mimetype": "text/x-python",
   "name": "python",
   "nbconvert_exporter": "python",
   "pygments_lexer": "ipython3",
   "version": "3.12.6"
  }
 },
 "nbformat": 4,
 "nbformat_minor": 5
}
