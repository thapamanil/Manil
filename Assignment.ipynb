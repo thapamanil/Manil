{
 "cells": [
  {
   "cell_type": "markdown",
   "id": "7b13aff3-9d83-43a6-b50a-a675af15b472",
   "metadata": {},
   "source": [
    "Queestion 1\n"
   ]
  },
  {
   "cell_type": "code",
   "execution_count": 3,
   "id": "3395c599-7960-4fea-831d-955c55c34e22",
   "metadata": {},
   "outputs": [
    {
     "name": "stdout",
     "output_type": "stream",
     "text": [
      "Enter Your Username: Manil\n",
      "Enter Your Age:  21\n"
     ]
    },
    {
     "name": "stdout",
     "output_type": "stream",
     "text": [
      "Welcome,  Manil\n"
     ]
    }
   ],
   "source": [
    "Name = input(\"Enter Your Username:\" )\n",
    "Age = input(\"Enter Your Age: \")\n",
    "\n",
    "print(f\"Welcome,  {Name}\")\n",
    "\n",
    "\n",
    "\n",
    "  "
   ]
  },
  {
   "cell_type": "markdown",
   "id": "543496b7-c9c0-4302-9d12-d7fbedbfe8be",
   "metadata": {},
   "source": [
    "Question 2"
   ]
  },
  {
   "cell_type": "code",
   "execution_count": 8,
   "id": "5fc6298a-e569-46c7-8d34-9cea80df7f39",
   "metadata": {},
   "outputs": [
    {
     "name": "stdout",
     "output_type": "stream",
     "text": [
      "['Singing', 'Gaming', 'Watching Movie']\n"
     ]
    }
   ],
   "source": [
    "list = [\"Singing\", \"Gaming\", \"Watching Movie\"]\n",
    "print(list)"
   ]
  },
  {
   "cell_type": "code",
   "execution_count": 12,
   "id": "14eac039-fab1-495e-8b79-96a033c2f218",
   "metadata": {},
   "outputs": [],
   "source": [
    "list.append(\"Painting\")"
   ]
  },
  {
   "cell_type": "code",
   "execution_count": 13,
   "id": "d3c50d62-d1ca-4490-b55c-75d761a64c79",
   "metadata": {},
   "outputs": [
    {
     "name": "stdout",
     "output_type": "stream",
     "text": [
      "['Singing', 'Gaming', 'Watching Movie', 'Painting']\n"
     ]
    }
   ],
   "source": [
    "print(list)"
   ]
  },
  {
   "cell_type": "markdown",
   "id": "191587df-29d7-49ad-bfa9-b2fc2391823f",
   "metadata": {},
   "source": [
    "Question 3"
   ]
  },
  {
   "cell_type": "code",
   "execution_count": 14,
   "id": "c3b2689f-e363-4cf5-ac27-08329aeea980",
   "metadata": {},
   "outputs": [
    {
     "name": "stdout",
     "output_type": "stream",
     "text": [
      "Initial screen dimensions: (1900, 1080)\n",
      "Error: 'tuple' object does not support item assignment\n"
     ]
    }
   ],
   "source": [
    "screen_dimensions = (1900, 1080)  \n",
    "\n",
    "# Print the initial tuple\n",
    "print(f\"Initial screen dimensions: {screen_dimensions}\")\n",
    "\n",
    "# Attempt to modify one of the values\n",
    "try:\n",
    "    screen_dimensions[0] = 1280  # Attempt to change the width\n",
    "except TypeError as e:\n",
    "    print(f\"Error: {e}\")\n",
    "\n",
    "# Comment on the outcome\n",
    "# Tuples are immutable in Python, so attempting to modify their elements raises a TypeError.\n",
    "# To change the screen dimensions, a new tuple would need to be created.\n"
   ]
  },
  {
   "cell_type": "markdown",
   "id": "d162dda7-b557-474f-bfd5-4ac489338608",
   "metadata": {},
   "source": [
    "Question 4\n"
   ]
  },
  {
   "cell_type": "code",
   "execution_count": 16,
   "id": "2b8c32a0-2440-4d8c-97e5-5c32ad44f2c1",
   "metadata": {},
   "outputs": [],
   "source": [
    "Pet = {\n",
    "    \"Type\" : \"Pug\",\n",
    "    \"Name\" : \"Coco\",\n",
    "    \"Age\" : 9\n",
    "}"
   ]
  },
  {
   "cell_type": "code",
   "execution_count": 31,
   "id": "cb1f53d9-96f3-4f5c-8cb8-2764fba8d79a",
   "metadata": {},
   "outputs": [],
   "source": [
    "Pet[\"color\"] = \"Brown\"\n"
   ]
  },
  {
   "cell_type": "code",
   "execution_count": 34,
   "id": "99d9d56f-bee1-4ad2-b969-ce44a92ef473",
   "metadata": {},
   "outputs": [
    {
     "name": "stdout",
     "output_type": "stream",
     "text": [
      "{'Color': 'Brown', 'color': 'Brown'}\n"
     ]
    }
   ],
   "source": [
    "print(Pet)"
   ]
  },
  {
   "cell_type": "markdown",
   "id": "795d4c18-aaba-435f-a505-c24d1112ea31",
   "metadata": {},
   "source": [
    "Question 5"
   ]
  },
  {
   "cell_type": "code",
   "execution_count": 51,
   "id": "bb940247-6731-4d02-82df-effb599b3a68",
   "metadata": {},
   "outputs": [
    {
     "name": "stdout",
     "output_type": "stream",
     "text": [
      "Enter your Age:  18\n"
     ]
    },
    {
     "name": "stdout",
     "output_type": "stream",
     "text": [
      "I am an adult\n"
     ]
    }
   ],
   "source": [
    "age = int(input(\"Enter your Age: \"))\n",
    "if (age>=18):\n",
    "    print(\"I am an adult\")\n",
    "else :\n",
    "    print(\"I am not an adult\")\n",
    "\n"
   ]
  },
  {
   "cell_type": "markdown",
   "id": "379dd146-867d-418b-923c-55f3d57158cb",
   "metadata": {},
   "source": [
    "**Question 6**\n",
    "**Question Book Keeper**"
   ]
  },
  {
   "cell_type": "code",
   "execution_count": 13,
   "id": "08ec0564-2c22-4077-a7f1-b957ee9aa67a",
   "metadata": {},
   "outputs": [],
   "source": [
    "# A list of tuples, where each tuple contains information about a book: (title, genre, year_published, times_borrowed).\n",
    "\n",
    "books = [\n",
    "    (\"The Alchemist\", \"Fiction\", 1988, 250),\n",
    "    (\"The Da Vinci Code\", \"Mystery\", 2003, 300),\n",
    "    (\"A Brief History of Time\", \"Science\", 1988, 150),\n",
    "    (\"The Theory of Everything\", \"Science\", 2002, 100),\n",
    "    (\"Pride and Prejudice\", \"Fiction\", 1813, 200),\n",
    "    (\"To Kill a Mockingbird\", \"Fiction\", 1960, 180),\n",
    "    (\"The Catcher in the Rye\", \"Fiction\", 1991, 220),\n",
    "    (\"Angels & Demons\", \"Mystery\", 2000, 210),\n",
    "    (\"The Grand Design\", \"Science\", 2010, 90),\n",
    "    (\"1984\", \"Fiction\", 1949, 190)\n",
    "]"
   ]
  },
  {
   "cell_type": "code",
   "execution_count": 14,
   "id": "95d51f60-226e-450a-b11e-920ca36c54ab",
   "metadata": {},
   "outputs": [
    {
     "name": "stdout",
     "output_type": "stream",
     "text": [
      "['The Alchemist', 'The Catcher in the Rye']\n"
     ]
    }
   ],
   "source": [
    "\n",
    "def filter_books(genre, year):\n",
    "    return[title[0] for title in books if title[1] == genre and title[2] >= year]\n",
    "   \n",
    "   \n",
    "\n",
    "print(filter_books(\"Fiction\", 1980))"
   ]
  },
  {
   "cell_type": "markdown",
   "id": "d3f1fc55-2d1b-4cde-bc93-329c86e6c429",
   "metadata": {},
   "source": [
    "**Task 02 : Write a Python program that uses a lambda expression to sort this list by publication year in ascending order. Print the sorted list of books.**\n",
    "\n",
    "**Try using a lambda expression with the sorted() function**"
   ]
  },
  {
   "cell_type": "code",
   "execution_count": 19,
   "id": "a10e8c0b-7ab3-4d63-8c98-755bcbdc0e70",
   "metadata": {},
   "outputs": [
    {
     "data": {
      "text/plain": [
       "[('Pride and Prejudice', 'Fiction', 1813, 200),\n",
       " ('1984', 'Fiction', 1949, 190),\n",
       " ('To Kill a Mockingbird', 'Fiction', 1960, 180),\n",
       " ('The Alchemist', 'Fiction', 1988, 250),\n",
       " ('A Brief History of Time', 'Science', 1988, 150),\n",
       " ('The Catcher in the Rye', 'Fiction', 1991, 220),\n",
       " ('Angels & Demons', 'Mystery', 2000, 210),\n",
       " ('The Theory of Everything', 'Science', 2002, 100),\n",
       " ('The Da Vinci Code', 'Mystery', 2003, 300),\n",
       " ('The Grand Design', 'Science', 2010, 90)]"
      ]
     },
     "execution_count": 19,
     "metadata": {},
     "output_type": "execute_result"
    }
   ],
   "source": [
    "sorted_book = []\n",
    "sorted_books = sorted(books, key=lambda book: book[2])\n",
    "sorted_books"
   ]
  },
  {
   "cell_type": "code",
   "execution_count": null,
   "id": "94d34c3e-8e0a-41c3-a5b4-939b448b90ed",
   "metadata": {},
   "outputs": [],
   "source": []
  },
  {
   "cell_type": "code",
   "execution_count": null,
   "id": "0f83366b-23da-4b8b-9df2-01cb9f738a24",
   "metadata": {},
   "outputs": [],
   "source": []
  }
 ],
 "metadata": {
  "kernelspec": {
   "display_name": "Python 3 (ipykernel)",
   "language": "python",
   "name": "python3"
  },
  "language_info": {
   "codemirror_mode": {
    "name": "ipython",
    "version": 3
   },
   "file_extension": ".py",
   "mimetype": "text/x-python",
   "name": "python",
   "nbconvert_exporter": "python",
   "pygments_lexer": "ipython3",
   "version": "3.12.6"
  }
 },
 "nbformat": 4,
 "nbformat_minor": 5
}
