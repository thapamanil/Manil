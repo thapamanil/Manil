{
 "cells": [
  {
   "cell_type": "code",
   "execution_count": 11,
   "id": "943902f9-3c94-423d-860d-285e00f6ef51",
   "metadata": {},
   "outputs": [
    {
     "name": "stdin",
     "output_type": "stream",
     "text": [
      "Enter an integer:  3\n"
     ]
    },
    {
     "name": "stdout",
     "output_type": "stream",
     "text": [
      "Multiplication Table for 3:\n",
      "3 x 1 = 3\n",
      "3 x 2 = 6\n",
      "3 x 3 = 9\n",
      "3 x 4 = 12\n",
      "3 x 5 = 15\n",
      "3 x 6 = 18\n",
      "3 x 7 = 21\n",
      "3 x 8 = 24\n",
      "3 x 9 = 27\n",
      "3 x 10 = 30\n"
     ]
    }
   ],
   "source": [
    "number = int(input(\"Enter an integer: \"))\n",
    "\n",
    "print(f\"Multiplication Table for {number}:\")\n",
    "for i in range(1, 11):  \n",
    "    print(f\"{number} x {i} = {number * i}\")\n"
   ]
  },
  {
   "cell_type": "code",
   "execution_count": 12,
   "id": "3e277be2-ad52-43c6-9e48-6dc245960fff",
   "metadata": {},
   "outputs": [
    {
     "data": {
      "text/plain": [
       "[0, 1, 2, 3, 4]"
      ]
     },
     "execution_count": 12,
     "metadata": {},
     "output_type": "execute_result"
    }
   ],
   "source": [
    "list(range(0,5))"
   ]
  },
  {
   "cell_type": "code",
   "execution_count": 17,
   "id": "010ecee7-f60f-4b21-a77e-206aae9ec49a",
   "metadata": {},
   "outputs": [
    {
     "name": "stdout",
     "output_type": "stream",
     "text": [
      "Step 0\n",
      "0\n",
      "Step 1\n",
      "1\n",
      "Step 2\n",
      "2\n",
      "Step 3\n",
      "3\n",
      "Step 4\n",
      "4\n",
      "Step 5\n",
      "5\n",
      "Step 6\n",
      "6\n",
      "Step 7\n",
      "7\n",
      "Step 8\n",
      "8\n",
      "Step 9\n",
      "9\n"
     ]
    }
   ],
   "source": [
    "i = 0\n",
    "for i in range(0,10):\n",
    " print(f\"Step {i}\")\n",
    " print(i)\n",
    " i = i +1"
   ]
  },
  {
   "cell_type": "code",
   "execution_count": 19,
   "id": "31dee2a4-302d-4c86-bece-07c7f1dfe02a",
   "metadata": {},
   "outputs": [
    {
     "name": "stdout",
     "output_type": "stream",
     "text": [
      "0\n",
      "4\n",
      "8\n",
      "12\n",
      "16\n"
     ]
    }
   ],
   "source": [
    "for z in range(0,20,4):\n",
    " print(z)"
   ]
  },
  {
   "cell_type": "code",
   "execution_count": 21,
   "id": "3d555b4d-39e0-4b16-9a91-6294efb5ab7e",
   "metadata": {},
   "outputs": [],
   "source": [
    "#*\n",
    "#**\n",
    "#***\n",
    "#****\n",
    "#*****\n"
   ]
  },
  {
   "cell_type": "code",
   "execution_count": 30,
   "id": "b0362b21-9458-4f6e-b95c-7f7d798518c2",
   "metadata": {},
   "outputs": [
    {
     "name": "stdout",
     "output_type": "stream",
     "text": [
      "x\n",
      "xx\n",
      "xxx\n",
      "xxxx\n",
      "xxxxx\n"
     ]
    }
   ],
   "source": [
    "\n",
    "for i in range(1,6):\n",
    "    print(\"x\"*i)\n",
    "    "
   ]
  },
  {
   "cell_type": "code",
   "execution_count": 155,
   "id": "99d0b073-38cf-4a73-81d2-4182aefd8661",
   "metadata": {},
   "outputs": [
    {
     "name": "stdin",
     "output_type": "stream",
     "text": [
      "Enter your number:  2\n"
     ]
    },
    {
     "name": "stdout",
     "output_type": "stream",
     "text": [
      " 1*2\n",
      " 2*2\n",
      " 3*2\n",
      " 4*2\n",
      " 5*2\n",
      " 6*2\n",
      " 7*2\n",
      " 8*2\n",
      " 9*2\n",
      " 10*2\n"
     ]
    }
   ],
   "source": [
    "number = int(input(\"Enter your number: \"))\n",
    "for i in range(1,11):\n",
    "    print(f\" {i}*2\")\n"
   ]
  },
  {
   "cell_type": "code",
   "execution_count": 5,
   "id": "b62bc069-a009-470a-b951-c02930f91bbb",
   "metadata": {},
   "outputs": [
    {
     "name": "stdout",
     "output_type": "stream",
     "text": [
      "1\n",
      "4\n",
      "9\n",
      "16\n",
      "25\n",
      "36\n",
      "49\n",
      "64\n",
      "81\n",
      "100\n"
     ]
    }
   ],
   "source": [
    "i = 1\n",
    "while i <=10:\n",
    "    print(i**2)\n",
    "    i +=1"
   ]
  },
  {
   "cell_type": "code",
   "execution_count": 21,
   "id": "3f9095a2-30c1-4ad3-b5ce-fa3706530129",
   "metadata": {},
   "outputs": [
    {
     "name": "stdout",
     "output_type": "stream",
     "text": [
      "H\n",
      "e\n",
      "l\n",
      "l\n",
      "o is found\n",
      " \n",
      "W\n",
      "o is found\n",
      "r\n",
      "d\n",
      "End of Loop\n"
     ]
    }
   ],
   "source": [
    "str = \"Hello Word\"\n",
    "for a in str :\n",
    "  if a == \"o\":\n",
    "    print(\"o is found\")\n",
    "    continue\n",
    "      \n",
    "  print(a)\n",
    "else:\n",
    "    print(\"End of Loop\")"
   ]
  },
  {
   "cell_type": "code",
   "execution_count": 36,
   "id": "837967ca-da4b-4730-bf18-05b4fef7b286",
   "metadata": {},
   "outputs": [
    {
     "name": "stdout",
     "output_type": "stream",
     "text": [
      "M\n",
      "y\n",
      " \n",
      "n\n",
      "a\n",
      "m\n",
      "e\n",
      " \n",
      " i is Found\n",
      "s\n",
      " \n",
      "M\n",
      "a\n",
      "n\n",
      " i is Found\n",
      "l\n",
      " \n",
      "T\n",
      "h\n",
      "a\n",
      "p\n",
      "a\n"
     ]
    }
   ],
   "source": [
    "str = \"My name is Manil Thapa\"\n",
    "for a in str:\n",
    "   if a == \"i\":\n",
    "       print(\" i is Found\")\n",
    "       continue\n",
    "  \n",
    "   print(a)\n",
    "    \n",
    "    "
   ]
  },
  {
   "cell_type": "code",
   "execution_count": 40,
   "id": "d146524f-0308-4d03-9f22-9affbf3758c3",
   "metadata": {},
   "outputs": [
    {
     "name": "stdout",
     "output_type": "stream",
     "text": [
      "1\n",
      "4\n",
      "9\n",
      "16\n",
      "25\n",
      "36\n",
      "49\n",
      "64\n",
      "81\n",
      "100\n"
     ]
    }
   ],
   "source": [
    "number = range(1,11)\n",
    "for num in number:\n",
    "    print(num**2)\n"
   ]
  },
  {
   "cell_type": "code",
   "execution_count": null,
   "id": "9542486e-4a3b-4e0c-8921-c6d87d41d757",
   "metadata": {},
   "outputs": [],
   "source": []
  }
 ],
 "metadata": {
  "kernelspec": {
   "display_name": "Python 3 (ipykernel)",
   "language": "python",
   "name": "python3"
  },
  "language_info": {
   "codemirror_mode": {
    "name": "ipython",
    "version": 3
   },
   "file_extension": ".py",
   "mimetype": "text/x-python",
   "name": "python",
   "nbconvert_exporter": "python",
   "pygments_lexer": "ipython3",
   "version": "3.12.6"
  }
 },
 "nbformat": 4,
 "nbformat_minor": 5
}
