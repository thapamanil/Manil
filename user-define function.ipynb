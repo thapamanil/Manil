{
 "cells": [
  {
   "cell_type": "code",
   "execution_count": 2,
   "id": "8dc4f288-6edd-4619-b743-c75dc6be1391",
   "metadata": {},
   "outputs": [
    {
     "name": "stdout",
     "output_type": "stream",
     "text": [
      "Mean Error: 0.5\n"
     ]
    }
   ],
   "source": [
    "def calculate_mean_error(*errors):\n",
    "    \"\"\"\n",
    "    Calculate the mean of any number of error values.\n",
    "\n",
    "    Parameters:\n",
    "    *errors (float): A variable number of error values.\n",
    "\n",
    "    Returns:\n",
    "    float: The mean of the error values.\n",
    "    \"\"\"\n",
    "    if not errors:\n",
    "        raise ValueError(\"At least one error value must be provided.\")\n",
    "    \n",
    "    # Calculate the mean\n",
    "    mean_err = sum(errors) / len(errors)\n",
    "    return mean_err\n",
    "\n",
    "mean_error = calculate_mean_error(1.5, -0.5, 2.0, -1.0, 0.5)\n",
    "print(\"Mean Error:\", mean_error)\n"
   ]
  },
  {
   "cell_type": "code",
   "execution_count": 8,
   "id": "be82f98b-223e-4ff7-a0d4-4e7bc2203cc8",
   "metadata": {},
   "outputs": [
    {
     "name": "stdout",
     "output_type": "stream",
     "text": [
      "3.5555555555555554\n"
     ]
    }
   ],
   "source": [
    "def mean_error(*error):    \n",
    "  mean = sum(error)/len(error)    \n",
    "  print(mean)\n",
    "mean_error(2,3,5,7,3,3,6,1,2) "
   ]
  },
  {
   "cell_type": "code",
   "execution_count": 4,
   "id": "b8b1ca50-a173-4222-9f04-2e633cb65d29",
   "metadata": {},
   "outputs": [
    {
     "name": "stdout",
     "output_type": "stream",
     "text": [
      "Rocky is barking!\n"
     ]
    }
   ],
   "source": [
    "class Dog:\n",
    "    def __init__(self, name, age=3):\n",
    "        self.name = name\n",
    "        self.age = age\n",
    "\n",
    "    def bark(self):\n",
    "        print(f\"{self.name} is barking!\")\n",
    "\n",
    "\n",
    "dog1 = Dog(\"Rocky\")\n",
    "dog1.bark()"
   ]
  },
  {
   "cell_type": "code",
   "execution_count": null,
   "id": "e8fcc5ab-26a4-4394-b75d-2f9ae820ccd4",
   "metadata": {},
   "outputs": [],
   "source": []
  }
 ],
 "metadata": {
  "kernelspec": {
   "display_name": "Python 3 (ipykernel)",
   "language": "python",
   "name": "python3"
  },
  "language_info": {
   "codemirror_mode": {
    "name": "ipython",
    "version": 3
   },
   "file_extension": ".py",
   "mimetype": "text/x-python",
   "name": "python",
   "nbconvert_exporter": "python",
   "pygments_lexer": "ipython3",
   "version": "3.12.6"
  }
 },
 "nbformat": 4,
 "nbformat_minor": 5
}
