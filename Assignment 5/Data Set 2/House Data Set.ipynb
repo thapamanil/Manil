{
 "cells": [
  {
   "cell_type": "code",
   "execution_count": 1,
   "id": "529226e3-c4bf-40a2-bf03-0c5f66e4092e",
   "metadata": {},
   "outputs": [],
   "source": [
    "import pandas as pd\n",
    "import numpy as np\n",
    "import matplotlib.pyplot as plt\n",
    "import seaborn as sns"
   ]
  },
  {
   "cell_type": "code",
   "execution_count": null,
   "id": "df5fb31e-3e35-4fe5-b10a-ac2963804de5",
   "metadata": {},
   "outputs": [],
   "source": [
    "data = pd.read_csv(\""
   ]
  }
 ],
 "metadata": {
  "kernelspec": {
   "display_name": "Python 3 (ipykernel)",
   "language": "python",
   "name": "python3"
  },
  "language_info": {
   "codemirror_mode": {
    "name": "ipython",
    "version": 3
   },
   "file_extension": ".py",
   "mimetype": "text/x-python",
   "name": "python",
   "nbconvert_exporter": "python",
   "pygments_lexer": "ipython3",
   "version": "3.12.6"
  }
 },
 "nbformat": 4,
 "nbformat_minor": 5
}
