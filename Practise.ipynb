{
 "cells": [
  {
   "cell_type": "markdown",
   "id": "6c2e64f3-0e45-40dc-87a4-fbf17ce6eaee",
   "metadata": {},
   "source": [
    "**Write a Program to Display the Multiplication Table of a Given Number:\n",
    "Create a Python program that asks the user to enter an integer, and then prints the multiplication table for that number from 1 to 10. Use a for loop to generate and display the table**\n"
   ]
  },
  {
   "cell_type": "code",
   "execution_count": 4,
   "id": "7f904520-0dbb-493e-9b93-d95ead96d725",
   "metadata": {},
   "outputs": [
    {
     "name": "stdin",
     "output_type": "stream",
     "text": [
      "Enter your number :  2\n"
     ]
    },
    {
     "name": "stdout",
     "output_type": "stream",
     "text": [
      "2\n",
      "4\n",
      "6\n",
      "8\n",
      "10\n",
      "12\n",
      "14\n",
      "16\n",
      "18\n",
      "20\n"
     ]
    }
   ],
   "source": [
    "num = int(input(\"Enter your number : \"))\n",
    "for i in range(1,11):\n",
    "    print(i*num)\n",
    "    "
   ]
  },
  {
   "cell_type": "markdown",
   "id": "686c7deb-2c66-4999-bb1f-10dac44ef384",
   "metadata": {},
   "source": [
    "**Write a Program to Calculate the Sum of the First N Natural Numbers:\n",
    "Create a Python program that asks the user to enter a positive integer, N, and then calculates and prints the sum of the first N natural numbers. Use a while loop to accomplish this.**\n",
    " "
   ]
  },
  {
   "cell_type": "code",
   "execution_count": 5,
   "id": "f65f9f90-3a76-42c4-8074-4ed42222192f",
   "metadata": {},
   "outputs": [
    {
     "name": "stdin",
     "output_type": "stream",
     "text": [
      "Enter a number:  2\n"
     ]
    },
    {
     "name": "stdout",
     "output_type": "stream",
     "text": [
      "sum of the number is: 3\n"
     ]
    }
   ],
   "source": [
    "num=int(input(\"Enter a number: \"))\n",
    "suum=0\n",
    "i=0\n",
    "while i<=num:\n",
    "    suum=suum+i\n",
    "    i=i+1\n",
    "print(f\"sum of the number is: {suum}\")"
   ]
  },
  {
   "cell_type": "code",
   "execution_count": 11,
   "id": "3ecc2d0b-d986-4e34-b648-e6a94ee8d022",
   "metadata": {},
   "outputs": [
    {
     "name": "stdout",
     "output_type": "stream",
     "text": [
      "{'w', 'v', 'c', 'l', 'j', 'm', 'e', 'd', 'o', 'f', 'p', 'x', 'b', ' ', 'i', 'u', 's', 'g', 'h', 't', 'a', 'k', 'y', 'n', 'z', 'r', 'q'}\n",
      "w\n",
      "v\n",
      "c\n",
      "l\n",
      "j\n",
      "m\n",
      "e\n",
      "d\n",
      "o\n",
      "f\n",
      "p\n",
      "x\n",
      "b\n",
      " \n",
      "i\n",
      "u\n",
      "s\n",
      "g\n",
      "h\n",
      "t\n",
      "a\n",
      "k\n",
      "y\n",
      "n\n",
      "z\n",
      "r\n",
      "q\n"
     ]
    }
   ],
   "source": [
    "sent = \"the quick brown fox jumps over lazy dog\"\n",
    "sen_set =set(sent)\n",
    "print(sen)\n",
    "for each in sen_set:\n",
    "    print(each)"
   ]
  },
  {
   "cell_type": "raw",
   "id": "4f39e901-c220-48ab-8f4f-ab81773cf1d1",
   "metadata": {},
   "source": []
  },
  {
   "cell_type": "markdown",
   "id": "dc509e33-ebec-4209-8a39-d627c0e08188",
   "metadata": {},
   "source": [
    "**WAP to print number form 1 - 100**"
   ]
  },
  {
   "cell_type": "code",
   "execution_count": 12,
   "id": "1cdb3f96-3dfb-45d6-8530-28e9eae26608",
   "metadata": {},
   "outputs": [
    {
     "name": "stdout",
     "output_type": "stream",
     "text": [
      "1\n",
      "2\n",
      "3\n",
      "4\n",
      "5\n",
      "6\n",
      "7\n",
      "8\n",
      "9\n",
      "10\n",
      "11\n",
      "12\n",
      "13\n",
      "14\n",
      "15\n",
      "16\n",
      "17\n",
      "18\n",
      "19\n",
      "20\n",
      "21\n",
      "22\n",
      "23\n",
      "24\n",
      "25\n",
      "26\n",
      "27\n",
      "28\n",
      "29\n",
      "30\n",
      "31\n",
      "32\n",
      "33\n",
      "34\n",
      "35\n",
      "36\n",
      "37\n",
      "38\n",
      "39\n",
      "40\n",
      "41\n",
      "42\n",
      "43\n",
      "44\n",
      "45\n",
      "46\n",
      "47\n",
      "48\n",
      "49\n",
      "50\n",
      "51\n",
      "52\n",
      "53\n",
      "54\n",
      "55\n",
      "56\n",
      "57\n",
      "58\n",
      "59\n",
      "60\n",
      "61\n",
      "62\n",
      "63\n",
      "64\n",
      "65\n",
      "66\n",
      "67\n",
      "68\n",
      "69\n",
      "70\n",
      "71\n",
      "72\n",
      "73\n",
      "74\n",
      "75\n",
      "76\n",
      "77\n",
      "78\n",
      "79\n",
      "80\n",
      "81\n",
      "82\n",
      "83\n",
      "84\n",
      "85\n",
      "86\n",
      "87\n",
      "88\n",
      "89\n",
      "90\n",
      "91\n",
      "92\n",
      "93\n",
      "94\n",
      "95\n",
      "96\n",
      "97\n",
      "98\n",
      "99\n",
      "100\n"
     ]
    }
   ],
   "source": [
    "i = 1 \n",
    "while i <=100:\n",
    "    print(i)\n",
    "    i += 1"
   ]
  },
  {
   "cell_type": "markdown",
   "id": "e307dc71-8e60-4d06-b649-b92f296ef71f",
   "metadata": {},
   "source": [
    "**WAP to print number form 100-1**"
   ]
  },
  {
   "cell_type": "code",
   "execution_count": 13,
   "id": "ce5c8806-2b0b-4690-9732-fd555bafaaa2",
   "metadata": {},
   "outputs": [
    {
     "name": "stdout",
     "output_type": "stream",
     "text": [
      "100\n",
      "99\n",
      "98\n",
      "97\n",
      "96\n",
      "95\n",
      "94\n",
      "93\n",
      "92\n",
      "91\n",
      "90\n",
      "89\n",
      "88\n",
      "87\n",
      "86\n",
      "85\n",
      "84\n",
      "83\n",
      "82\n",
      "81\n",
      "80\n",
      "79\n",
      "78\n",
      "77\n",
      "76\n",
      "75\n",
      "74\n",
      "73\n",
      "72\n",
      "71\n",
      "70\n",
      "69\n",
      "68\n",
      "67\n",
      "66\n",
      "65\n",
      "64\n",
      "63\n",
      "62\n",
      "61\n",
      "60\n",
      "59\n",
      "58\n",
      "57\n",
      "56\n",
      "55\n",
      "54\n",
      "53\n",
      "52\n",
      "51\n",
      "50\n",
      "49\n",
      "48\n",
      "47\n",
      "46\n",
      "45\n",
      "44\n",
      "43\n",
      "42\n",
      "41\n",
      "40\n",
      "39\n",
      "38\n",
      "37\n",
      "36\n",
      "35\n",
      "34\n",
      "33\n",
      "32\n",
      "31\n",
      "30\n",
      "29\n",
      "28\n",
      "27\n",
      "26\n",
      "25\n",
      "24\n",
      "23\n",
      "22\n",
      "21\n",
      "20\n",
      "19\n",
      "18\n",
      "17\n",
      "16\n",
      "15\n",
      "14\n",
      "13\n",
      "12\n",
      "11\n",
      "10\n",
      "9\n",
      "8\n",
      "7\n",
      "6\n",
      "5\n",
      "4\n",
      "3\n",
      "2\n",
      "1\n"
     ]
    }
   ],
   "source": [
    "i = 100\n",
    "while i >=1:\n",
    "    print(i)\n",
    "    i -=1"
   ]
  },
  {
   "cell_type": "markdown",
   "id": "5bcbbe6a-c1c9-42e9-99ae-353e2a491dce",
   "metadata": {},
   "source": [
    "**WAp to print multiplictaion of n**"
   ]
  },
  {
   "cell_type": "code",
   "execution_count": null,
   "id": "c5c7e0d5-9d72-4979-945f-c50d15a4c1ff",
   "metadata": {},
   "outputs": [],
   "source": [
    "z = 1\n",
    "while i <= 10:\n",
    "    print(i)\n",
    "    i += 1"
   ]
  },
  {
   "cell_type": "code",
   "execution_count": null,
   "id": "8025a1c4-14ca-40b0-8c2d-725a2922f359",
   "metadata": {},
   "outputs": [],
   "source": [
    "print(i)"
   ]
  },
  {
   "cell_type": "code",
   "execution_count": null,
   "id": "3fff798c-b30e-43e1-8501-56b56eb77d93",
   "metadata": {},
   "outputs": [],
   "source": []
  }
 ],
 "metadata": {
  "kernelspec": {
   "display_name": "Python 3 (ipykernel)",
   "language": "python",
   "name": "python3"
  },
  "language_info": {
   "codemirror_mode": {
    "name": "ipython",
    "version": 3
   },
   "file_extension": ".py",
   "mimetype": "text/x-python",
   "name": "python",
   "nbconvert_exporter": "python",
   "pygments_lexer": "ipython3",
   "version": "3.12.6"
  }
 },
 "nbformat": 4,
 "nbformat_minor": 5
}
